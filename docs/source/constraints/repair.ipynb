{
 "cells": [
  {
   "cell_type": "raw",
   "id": "d8b54188-9c5d-494d-8435-aea1ccacb125",
   "metadata": {
    "raw_mimetype": "text/restructuredtext"
   },
   "source": [
    ".. _nb_repair:"
   ]
  },
  {
   "cell_type": "code",
   "execution_count": 4,
   "id": "d2e220b4-b2af-4278-bb4f-e5936312ced3",
   "metadata": {
    "nbsphinx": "hidden",
    "tags": []
   },
   "outputs": [],
   "source": [
    "%%capture\n",
    "%run ./index.ipynb"
   ]
  },
  {
   "cell_type": "markdown",
   "id": "be5e07d8-23af-4361-9f4e-5982a8a1ab40",
   "metadata": {
    "tags": []
   },
   "source": [
    "## Repair Operator "
   ]
  },
  {
   "cell_type": "markdown",
   "id": "c985afe1-bad1-4689-a929-ae145f2d2bda",
   "metadata": {},
   "source": [
    "A simple approach is to handle constraints through a repair function. This is only possible if the equation of the constraint is known. The repair makes sure every solution that is evaluated is, in fact, feasible. Let us consider the equality constraint example."
   ]
  },
  {
   "cell_type": "markdown",
   "id": "809cfc24-3172-43b8-918d-b29c63383951",
   "metadata": {},
   "source": [
    "Let us define a `Repair` operator that always satisfies the equality constraint (the inequality constraint is simply ignored and will be figured out by the algorithm)"
   ]
  },
  {
   "cell_type": "code",
   "execution_count": 10,
   "id": "c0ef1df3-f2d9-4a20-92a4-5684e5032e23",
   "metadata": {
    "tags": []
   },
   "outputs": [],
   "source": [
    "from pymoo.core.repair import Repair\n",
    "\n",
    "class MyRepair(Repair):\n",
    "\n",
    "    def _do(self, problem, X, **kwargs):\n",
    "        X[:, 0] = 1/3 * X[:, 1]\n",
    "        return X"
   ]
  },
  {
   "cell_type": "markdown",
   "id": "c70b48e2-9ee4-4c58-a5f6-d5de74ac33c6",
   "metadata": {},
   "source": [
    "Now the algorithm object needs to be initialized with the `Repair` operator and then can be run to solve the problem:"
   ]
  },
  {
   "cell_type": "code",
   "execution_count": 11,
   "id": "54068131-6224-48b0-9608-01546a096b38",
   "metadata": {
    "tags": []
   },
   "outputs": [
    {
     "name": "stdout",
     "output_type": "stream",
     "text": [
      "=================================================================================\n",
      "n_gen  |  n_eval  |     cv_min    |     cv_avg    |     f_avg     |     f_min    \n",
      "=================================================================================\n",
      "     1 |      100 |  0.000000E+00 |  0.3516478340 |  1.1816456287 |  1.0001924199\n",
      "     2 |      200 |  0.000000E+00 |  0.0206023997 |  1.1675620969 |  1.0001924199\n",
      "     3 |      300 |  0.000000E+00 |  0.000000E+00 |  1.1107388988 |  1.0001924199\n",
      "     4 |      400 |  0.000000E+00 |  0.000000E+00 |  1.0524340820 |  1.0001875222\n",
      "     5 |      500 |  0.000000E+00 |  0.000000E+00 |  1.0306380519 |  1.0001875222\n",
      "     6 |      600 |  0.000000E+00 |  0.000000E+00 |  1.0172517666 |  1.0001875222\n",
      "     7 |      700 |  0.000000E+00 |  0.000000E+00 |  1.0109417735 |  1.0001875222\n",
      "     8 |      800 |  0.000000E+00 |  0.000000E+00 |  1.0072225067 |  1.0000905808\n",
      "     9 |      900 |  0.000000E+00 |  0.000000E+00 |  1.0049397512 |  1.0000460954\n",
      "    10 |     1000 |  0.000000E+00 |  0.000000E+00 |  1.0040643895 |  1.0000460954\n",
      "    11 |     1100 |  0.000000E+00 |  0.000000E+00 |  1.0032576344 |  1.0000460954\n",
      "    12 |     1200 |  0.000000E+00 |  0.000000E+00 |  1.0022187352 |  1.0000460954\n",
      "    13 |     1300 |  0.000000E+00 |  0.000000E+00 |  1.0013858855 |  1.0000447710\n",
      "    14 |     1400 |  0.000000E+00 |  0.000000E+00 |  1.0007091290 |  1.0000395602\n",
      "    15 |     1500 |  0.000000E+00 |  0.000000E+00 |  1.0004493175 |  1.0000367607\n",
      "    16 |     1600 |  0.000000E+00 |  0.000000E+00 |  1.0003451683 |  1.0000367607\n",
      "    17 |     1700 |  0.000000E+00 |  0.000000E+00 |  1.0002456102 |  1.0000341967\n",
      "    18 |     1800 |  0.000000E+00 |  0.000000E+00 |  1.0001581006 |  1.0000267600\n",
      "    19 |     1900 |  0.000000E+00 |  0.000000E+00 |  1.0001137034 |  1.0000267600\n",
      "    20 |     2000 |  0.000000E+00 |  0.000000E+00 |  1.0000901710 |  1.0000250541\n",
      "Best solution found: \n",
      "X = [0.25000626 0.75001879]\n",
      "F = [1.00002505]\n",
      "CV = [0.]\n"
     ]
    }
   ],
   "source": [
    "from pymoo.algorithms.soo.nonconvex.ga import GA\n",
    "from pymoo.optimize import minimize\n",
    "\n",
    "algorithm = GA(repair=MyRepair())\n",
    "\n",
    "res = minimize(ConstrainedProblemWithEquality(),\n",
    "               algorithm,\n",
    "               ('n_gen', 20),\n",
    "               seed=1,\n",
    "               verbose=True)\n",
    "\n",
    "print(\"Best solution found: \\nX = %s\\nF = %s\\nCV = %s\" % (res.X, res.F, res.CV))"
   ]
  },
  {
   "cell_type": "markdown",
   "id": "08e4d68b-1044-444a-9453-d6c8959d5e5c",
   "metadata": {},
   "source": [
    "If you would like to compare the solution without a repair you will see how searching only in the feasible space helps:"
   ]
  },
  {
   "cell_type": "code",
   "execution_count": 13,
   "id": "18e818b8-73cd-4a48-9567-21f76ac9cf3d",
   "metadata": {
    "tags": []
   },
   "outputs": [
    {
     "name": "stdout",
     "output_type": "stream",
     "text": [
      "=================================================================================\n",
      "n_gen  |  n_eval  |     cv_min    |     cv_avg    |     f_avg     |     f_min    \n",
      "=================================================================================\n",
      "     1 |      100 |  0.0168997810 |  1.1966219666 |             - |             -\n",
      "     2 |      200 |  0.0006806481 |  0.5277543787 |             - |             -\n",
      "     3 |      300 |  0.0006806481 |  0.2246605969 |             - |             -\n",
      "     4 |      400 |  0.0001335846 |  0.0831058535 |             - |             -\n",
      "     5 |      500 |  0.0001335846 |  0.0417134481 |             - |             -\n",
      "     6 |      600 |  0.0001335846 |  0.0255767204 |             - |             -\n",
      "     7 |      700 |  0.0001335846 |  0.0163322959 |             - |             -\n",
      "     8 |      800 |  0.0001335846 |  0.0122030304 |             - |             -\n",
      "     9 |      900 |  0.0001335846 |  0.0100974433 |             - |             -\n",
      "    10 |     1000 |  0.0001335846 |  0.0079568679 |             - |             -\n",
      "    11 |     1100 |  0.0001335846 |  0.0055451925 |             - |             -\n",
      "    12 |     1200 |  0.0001335846 |  0.0042557033 |             - |             -\n",
      "    13 |     1300 |  0.0001335846 |  0.0036626923 |             - |             -\n",
      "    14 |     1400 |  0.0001335846 |  0.0034220280 |             - |             -\n",
      "    15 |     1500 |  0.0001335846 |  0.0032915840 |             - |             -\n",
      "    16 |     1600 |  0.000000E+00 |  0.0030360492 |  1.0347093517 |  1.0347093517\n",
      "    17 |     1700 |  0.000000E+00 |  0.0027270410 |  1.0347093517 |  1.0347093517\n",
      "    18 |     1800 |  0.000000E+00 |  0.0025378693 |  1.0347093517 |  1.0347093517\n",
      "    19 |     1900 |  0.000000E+00 |  0.0022544311 |  1.0347093517 |  1.0347093517\n",
      "    20 |     2000 |  0.000000E+00 |  0.0021522800 |  1.0347093517 |  1.0347093517\n",
      "Best solution found: \n",
      "X = [0.25868534 0.77602401]\n",
      "F = [1.03470935]\n",
      "CV = [0.]\n"
     ]
    }
   ],
   "source": [
    "from pymoo.algorithms.soo.nonconvex.ga import GA\n",
    "from pymoo.optimize import minimize\n",
    "\n",
    "\n",
    "algorithm = GA()\n",
    "\n",
    "res = minimize(ConstrainedProblemWithEquality(),\n",
    "               algorithm,\n",
    "               ('n_gen', 20),\n",
    "               seed=1,\n",
    "               verbose=True)\n",
    "\n",
    "print(\"Best solution found: \\nX = %s\\nF = %s\\nCV = %s\" % (res.X, res.F, res.CV))"
   ]
  }
 ],
 "metadata": {
  "kernelspec": {
   "display_name": "Python 3 (ipykernel)",
   "language": "python",
   "name": "python3"
  },
  "language_info": {
   "codemirror_mode": {
    "name": "ipython",
    "version": 3
   },
   "file_extension": ".py",
   "mimetype": "text/x-python",
   "name": "python",
   "nbconvert_exporter": "python",
   "pygments_lexer": "ipython3",
   "version": "3.9.12"
  }
 },
 "nbformat": 4,
 "nbformat_minor": 5
}
