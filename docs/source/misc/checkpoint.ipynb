{
 "cells": [
  {
   "cell_type": "raw",
   "metadata": {
    "raw_mimetype": "text/restructuredtext"
   },
   "source": [
    ".. _nb_checkpoint:"
   ]
  },
  {
   "cell_type": "markdown",
   "metadata": {},
   "source": [
    "# Checkpoints"
   ]
  },
  {
   "cell_type": "markdown",
   "metadata": {},
   "source": [
    "Sometimes, it might be useful to store some checkpoints while executing an algorithm. In particular, if a run is very time-consuming. \n",
    "**pymoo** offers to resume a run by serializing the algorithm object and loading it. Resuming runs from checkpoints is possible \n",
    "\n",
    "- the functional way by calling the `minimize` method, \n",
    "- the object-oriented way by repeatedly calling the `next()` method or \n",
    "- from a text file ([Biased Initialization](../customization/initialization.ipynb) from `Population` )"
   ]
  },
  {
   "cell_type": "markdown",
   "metadata": {},
   "source": [
    "## Functional"
   ]
  },
  {
   "cell_type": "code",
   "execution_count": 1,
   "metadata": {
    "execution": {
     "iopub.execute_input": "2022-07-03T13:06:09.454055Z",
     "iopub.status.busy": "2022-07-03T13:06:09.453529Z",
     "iopub.status.idle": "2022-07-03T13:06:11.578802Z",
     "shell.execute_reply": "2022-07-03T13:06:11.577872Z"
    },
    "tags": []
   },
   "outputs": [
    {
     "name": "stdout",
     "output_type": "stream",
     "text": [
      "==========================================================================\n",
      "n_gen  |  n_eval  | n_nds  |      igd      |       gd      |       hv     \n",
      "==========================================================================\n",
      "     1 |      100 |      6 |  0.5914067243 |  2.8577180757 |  0.0841819857\n",
      "     2 |      200 |     12 |  0.4142923277 |  2.5677806357 |  0.1929910317\n",
      "     3 |      300 |     13 |  0.4141164945 |  1.8140218582 |  0.1929910317\n",
      "     4 |      400 |     13 |  0.3260510318 |  1.4284805268 |  0.2393608464\n",
      "     5 |      500 |     12 |  0.2863716201 |  0.9389805558 |  0.2798618546\n"
     ]
    },
    {
     "name": "stdout",
     "output_type": "stream",
     "text": [
      "Loaded Checkpoint: <pymoo.algorithms.moo.nsga2.NSGA2 object at 0x7f05f2ebe490>\n",
      "     6 |      600 |     16 |  0.2032207467 |  1.1781204920 |  0.3565210005\n",
      "     7 |      700 |     19 |  0.1769910504 |  1.0917100947 |  0.3846180138\n",
      "     8 |      800 |     21 |  0.1650278469 |  0.8854634936 |  0.4100198098\n",
      "     9 |      900 |     22 |  0.1497465622 |  0.4296217574 |  0.4171669870\n"
     ]
    },
    {
     "name": "stdout",
     "output_type": "stream",
     "text": [
      "    10 |     1000 |     25 |  0.1385935347 |  0.3126485838 |  0.4364806508\n",
      "    11 |     1100 |     28 |  0.1197443704 |  0.1506553570 |  0.4631916155\n",
      "    12 |     1200 |     32 |  0.0967014276 |  0.1272461455 |  0.5030211647\n",
      "    13 |     1300 |     26 |  0.0760029935 |  0.0924710716 |  0.5358790734\n",
      "    14 |     1400 |     33 |  0.0650366349 |  0.0796895797 |  0.5562899448\n",
      "    15 |     1500 |     40 |  0.0525439361 |  0.0823186520 |  0.5794508388\n"
     ]
    },
    {
     "name": "stdout",
     "output_type": "stream",
     "text": [
      "    16 |     1600 |     48 |  0.0430276743 |  0.0772072430 |  0.5942008130\n",
      "    17 |     1700 |     45 |  0.0343731737 |  0.0416826975 |  0.6076420316\n",
      "    18 |     1800 |     51 |  0.0289535770 |  0.0300533296 |  0.6176606634\n",
      "    19 |     1900 |     60 |  0.0240942124 |  0.0272274925 |  0.6267873202\n",
      "    20 |     2000 |     69 |  0.0199349997 |  0.0232941258 |  0.6334560769\n"
     ]
    }
   ],
   "source": [
    "import dill\n",
    "import numpy as np\n",
    "\n",
    "from pymoo.algorithms.moo.nsga2 import NSGA2\n",
    "from pymoo.factory import get_problem\n",
    "from pymoo.optimize import minimize\n",
    "from pymoo.termination.max_gen import MaximumGenerationTermination\n",
    "\n",
    "problem = get_problem(\"zdt1\", n_var=5)\n",
    "\n",
    "algorithm = NSGA2(pop_size=100)\n",
    "\n",
    "res = minimize(problem,\n",
    "               algorithm,\n",
    "               ('n_gen', 5),\n",
    "               seed=1,\n",
    "               copy_algorithm=False,\n",
    "               verbose=True)\n",
    "\n",
    "with open(\"checkpoint\", \"wb\") as f:\n",
    "    dill.dump(algorithm, f)\n",
    "\n",
    "with open(\"checkpoint\", 'rb') as f:\n",
    "    checkpoint = dill.load(f)\n",
    "    print(\"Loaded Checkpoint:\", checkpoint)\n",
    "\n",
    "# only necessary if for the checkpoint the termination criterion has been met\n",
    "checkpoint.termination = MaximumGenerationTermination(20)\n",
    "\n",
    "res = minimize(problem,\n",
    "               checkpoint,\n",
    "               seed=1,\n",
    "               copy_algorithm=False,\n",
    "               verbose=True)"
   ]
  },
  {
   "cell_type": "markdown",
   "metadata": {},
   "source": [
    "## Object Oriented"
   ]
  },
  {
   "cell_type": "code",
   "execution_count": 2,
   "metadata": {
    "execution": {
     "iopub.execute_input": "2022-07-03T13:06:11.597973Z",
     "iopub.status.busy": "2022-07-03T13:06:11.590826Z",
     "iopub.status.idle": "2022-07-03T13:06:14.611568Z",
     "shell.execute_reply": "2022-07-03T13:06:14.610921Z"
    },
    "tags": []
   },
   "outputs": [
    {
     "name": "stdout",
     "output_type": "stream",
     "text": [
      "2\n",
      "3\n"
     ]
    },
    {
     "name": "stdout",
     "output_type": "stream",
     "text": [
      "4\n",
      "5"
     ]
    },
    {
     "name": "stdout",
     "output_type": "stream",
     "text": [
      "\n",
      "6\n"
     ]
    },
    {
     "name": "stdout",
     "output_type": "stream",
     "text": [
      "Loaded Checkpoint: <pymoo.algorithms.moo.nsga2.NSGA2 object at 0x7f05f3000be0>\n",
      "7\n",
      "8\n",
      "9\n",
      "10\n",
      "11\n",
      "12\n",
      "13\n",
      "14\n"
     ]
    },
    {
     "name": "stdout",
     "output_type": "stream",
     "text": [
      "15\n",
      "16\n",
      "17\n",
      "18\n",
      "19\n",
      "20\n",
      "21\n"
     ]
    }
   ],
   "source": [
    "import dill\n",
    "import numpy as np\n",
    "\n",
    "from pymoo.algorithms.moo.nsga2 import NSGA2\n",
    "from pymoo.factory import get_problem\n",
    "from pymoo.factory import get_termination\n",
    "from pymoo.optimize import minimize\n",
    "from pymoo.visualization.scatter import Scatter\n",
    "\n",
    "problem = get_problem(\"zdt1\", n_var=5)\n",
    "\n",
    "algorithm = NSGA2(pop_size=100)\n",
    "\n",
    "algorithm.setup(problem, seed=1, termination=('n_gen', 20))\n",
    "\n",
    "for k in range(5):\n",
    "    algorithm.next()\n",
    "    print(algorithm.n_gen)\n",
    "\n",
    "    with open(\"checkpoint\", \"wb\") as f:\n",
    "        dill.dump(algorithm, f)\n",
    "    \n",
    "    \n",
    "with open(\"checkpoint\", 'rb') as f:\n",
    "    checkpoint = dill.load(f)\n",
    "    print(\"Loaded Checkpoint:\", checkpoint)\n",
    "\n",
    "while checkpoint.has_next():\n",
    "    checkpoint.next()\n",
    "    print(checkpoint.n_gen)"
   ]
  },
  {
   "cell_type": "markdown",
   "metadata": {},
   "source": [
    "## From a Text File"
   ]
  },
  {
   "cell_type": "markdown",
   "metadata": {},
   "source": [
    "First, load the data from a file. Usually, this will include the variables `X`, the objective values `F` (and the constraints `G`). Here, they are created randomly. Always make sure the `Problem` you are solving would return the same values for the given `X` values. Otherwise the data might be misleading for the algorithm.\n",
    "\n",
    "(This is not the case here. It is really JUST for illustration purposes)"
   ]
  },
  {
   "cell_type": "code",
   "execution_count": 3,
   "metadata": {
    "execution": {
     "iopub.execute_input": "2022-07-03T13:06:14.616574Z",
     "iopub.status.busy": "2022-07-03T13:06:14.615903Z",
     "iopub.status.idle": "2022-07-03T13:06:14.631741Z",
     "shell.execute_reply": "2022-07-03T13:06:14.630972Z"
    },
    "tags": []
   },
   "outputs": [],
   "source": [
    "import numpy as np\n",
    "from pymoo.problems.single import G1\n",
    "\n",
    "problem = G1()\n",
    "\n",
    "N = 300\n",
    "np.random.seed(1)\n",
    "X = np.random.random((N, problem.n_var))\n",
    "\n",
    "# here F and G is re-evaluated - in practice you want to load them from files too\n",
    "F, G = problem.evaluate(X, return_values_of=[\"F\", \"G\"])"
   ]
  },
  {
   "cell_type": "markdown",
   "metadata": {},
   "source": [
    "Then, create a population object using your data:"
   ]
  },
  {
   "cell_type": "code",
   "execution_count": 4,
   "metadata": {
    "execution": {
     "iopub.execute_input": "2022-07-03T13:06:14.637476Z",
     "iopub.status.busy": "2022-07-03T13:06:14.636853Z",
     "iopub.status.idle": "2022-07-03T13:06:14.667964Z",
     "shell.execute_reply": "2022-07-03T13:06:14.667016Z"
    },
    "tags": []
   },
   "outputs": [],
   "source": [
    "from pymoo.core.evaluator import Evaluator\n",
    "from pymoo.core.population import Population\n",
    "from pymoo.problems.static import StaticProblem\n",
    "\n",
    "# now the population object with all its attributes is created (CV, feasible, ...)\n",
    "pop = Population.new(\"X\", X)\n",
    "pop = Evaluator().eval(StaticProblem(problem, F=F, G=G), pop)"
   ]
  },
  {
   "cell_type": "markdown",
   "metadata": {},
   "source": [
    "And finally run it with a non-random initial population `sampling=pop`:"
   ]
  },
  {
   "cell_type": "code",
   "execution_count": 5,
   "metadata": {
    "execution": {
     "iopub.execute_input": "2022-07-03T13:06:14.673400Z",
     "iopub.status.busy": "2022-07-03T13:06:14.672847Z",
     "iopub.status.idle": "2022-07-03T13:06:15.034403Z",
     "shell.execute_reply": "2022-07-03T13:06:15.033609Z"
    },
    "tags": []
   },
   "outputs": [
    {
     "name": "stdout",
     "output_type": "stream",
     "text": [
      "=================================================================================================\n",
      "n_gen  |  n_eval  |     cv_min    |     cv_avg    |     f_avg     |     f_min     |     f_gap    \n",
      "=================================================================================================\n",
      "     1 |        0 |  0.000000E+00 |  0.1192400898 | -1.037973E+00 | -3.869005E+00 |  1.113099E+01\n",
      "     2 |      100 |  0.000000E+00 |  0.000000E+00 | -2.236718E+00 | -3.889330E+00 |  1.111067E+01\n",
      "     3 |      200 |  0.000000E+00 |  0.000000E+00 | -2.803012E+00 | -5.580025E+00 |  9.4199754224\n",
      "     4 |      300 |  0.000000E+00 |  0.000000E+00 | -3.429410E+00 | -5.816498E+00 |  9.1835016334\n",
      "     5 |      400 |  0.000000E+00 |  0.000000E+00 | -4.082023E+00 | -6.561619E+00 |  8.4383812986\n",
      "     6 |      500 |  0.000000E+00 |  0.000000E+00 | -4.843246E+00 | -7.183582E+00 |  7.8164176555\n",
      "     7 |      600 |  0.000000E+00 |  0.000000E+00 | -5.568205E+00 | -7.316943E+00 |  7.6830565678\n"
     ]
    },
    {
     "name": "stdout",
     "output_type": "stream",
     "text": [
      "     8 |      700 |  0.000000E+00 |  0.000000E+00 | -6.151748E+00 | -7.532310E+00 |  7.4676900556\n",
      "     9 |      800 |  0.000000E+00 |  0.000000E+00 | -6.651238E+00 | -7.768584E+00 |  7.2314162193\n",
      "    10 |      900 |  0.000000E+00 |  0.000000E+00 | -7.038396E+00 | -8.441010E+00 |  6.5589896578\n"
     ]
    }
   ],
   "source": [
    "from pymoo.algorithms.soo.nonconvex.ga import GA\n",
    "from pymoo.optimize import minimize\n",
    "\n",
    "# the algorithm is now called with the population - biased initialization\n",
    "algorithm = GA(pop_size=100, sampling=pop)\n",
    "\n",
    "res = minimize(problem,\n",
    "               algorithm,\n",
    "               ('n_gen', 10),\n",
    "               seed=1,\n",
    "               verbose=True)"
   ]
  }
 ],
 "metadata": {
  "kernelspec": {
   "display_name": "Python 3",
   "language": "python",
   "name": "python3"
  },
  "language_info": {
   "codemirror_mode": {
    "name": "ipython",
    "version": 3
   },
   "file_extension": ".py",
   "mimetype": "text/x-python",
   "name": "python",
   "nbconvert_exporter": "python",
   "pygments_lexer": "ipython3",
   "version": "3.9.12"
  }
 },
 "nbformat": 4,
 "nbformat_minor": 4
}
