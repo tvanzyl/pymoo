{
 "cells": [
  {
   "cell_type": "markdown",
   "metadata": {},
   "source": [
    ".. meta::\n",
    "   :description: A guide which introduces the most important steps to get started with pymoo, an open-source multi-objective optimization framework in Python."
   ]
  },
  {
   "cell_type": "markdown",
   "metadata": {},
   "source": [
    ".. meta::\n",
    "   :keywords: Multi-objective Optimization, Python, Evolutionary Computation, Optimization Test Problem, Hypervolume"
   ]
  },
  {
   "cell_type": "raw",
   "metadata": {
    "raw_mimetype": "text/restructuredtext"
   },
   "source": [
    ".. _nb_getting_started_part2:"
   ]
  },
  {
   "cell_type": "markdown",
   "metadata": {},
   "source": [
    "# Part II: Find a Solution Set using Multi-objective Optimization"
   ]
  },
  {
   "cell_type": "code",
   "execution_count": null,
   "metadata": {},
   "outputs": [],
   "source": []
  },
  {
   "cell_type": "raw",
   "metadata": {},
   "source": [
    "The constrained bi-objective problem from Part I was defined by"
   ]
  },
  {
   "cell_type": "markdown",
   "metadata": {},
   "source": [
    "\\begin{align} \n",
    "\\begin{split}\n",
    "\\min \\;\\; & f_1(x) = 100 \\, (x_1^2 + x_2^2) \\\\ \n",
    "\\max \\;\\; & f_2(x) = -(x_1-1)^2 - x_2^2 \\\\[1mm]\n",
    "\\text{s.t.} \\;\\; & g_1(x) = 2 \\, (x_1 - 0.1) \\, (x_1 - 0.9) \\leq 0\\\\ \n",
    "& g_2(x) = 20 \\, (x_1 - 0.4) \\, (x_1 - 0.6) \\geq 0\\\\[1mm] \n",
    "& -2 \\leq x_1 \\leq 2 \\\\\n",
    "& -2 \\leq x_2 \\leq 2\\\\[1mm] \n",
    "& x \\in \\mathbb{R}\n",
    "\\end{split}\n",
    "\\end{align}"
   ]
  },
  {
   "cell_type": "markdown",
   "metadata": {},
   "source": [
    "To implement the problem in **pymoo** some more work has to be done. "
   ]
  },
  {
   "cell_type": "raw",
   "metadata": {
    "raw_mimetype": "text/restructuredtext"
   },
   "source": [
    ".. admonition:: Problem Definition\n",
    "    :class: myOwnStyle\n",
    "\n",
    "    Most optimization frameworks commit to either minimize or maximize all objectives and to have only :math:`\\leq` or :math:`\\geq` constraints. In pymoo, each objective function is supposed to be **minimized**, and each constraint needs to be provided in the form of :math:`\\leq 0`."
   ]
  },
  {
   "cell_type": "markdown",
   "metadata": {},
   "source": [
    "Thus, we need to multiple an objective that is supposed to be maximized by $-1$ and minimize it. This results in minimizing $-f_2(x)$ instead of maximizing $f_2(x)$. \n",
    "\n",
    "Moreover, the inequality constraints need to be formulated as **less than zero**  ($\\leq 0$) constraint. \n",
    "For this reason, $g_2(x)$ is multiplied by $-1$ in order to flip inequality relation. \n",
    "Also, we recommend the normalization of constraints to make them operating on the same scale and giving them equal importance. For $g_1(x)$, the coefficient results in $2 \\cdot (-0.1) \\cdot (-0.9) = 0.18$ and for $g_2(x)$ in $20 \\cdot (-0.4) \\cdot (-0.6) = 4.8$, respectively. We achieve normalization of constraints by dividing $g_1(x)$ and $g_2(x)$ by its corresponding coefficient."
   ]
  },
  {
   "cell_type": "markdown",
   "metadata": {},
   "source": [
    "After these reformulations the problem to be implemented is given by:\n",
    "\n",
    "\\begin{align} \n",
    "\\label{eq:getting_started_pymoo}\n",
    "\\begin{split}\n",
    "\\min \\;\\; & f_1(x) = 100 \\, (x_1^2 + x_2^2) \\\\ \n",
    "\\min \\;\\; & f_2(x) = (x_1-1)^2 + x_2^2 \\\\[1mm] \n",
    "\\text{s.t.} \\;\\; & g_1(x) = 2 \\, (x_1 - 0.1) \\, (x_1 - 0.9)  \\, /  \\,  0.18 \\leq 0\\\\ \n",
    "& g_2(x) = - 20 \\, (x_1 - 0.4) \\, (x_1 - 0.6) \\,  /  \\,  4.8 \\leq 0\\\\[1mm] \n",
    "& -2 \\leq x_1 \\leq 2 \\\\\n",
    "& -2 \\leq x_2 \\leq 2\\\\[1mm] \n",
    "& x \\in \\mathbb{R}\n",
    "\\end{split}\n",
    "\\end{align}\n",
    "\n"
   ]
  },
  {
   "cell_type": "markdown",
   "metadata": {},
   "source": [
    "## Implement the Problem"
   ]
  },
  {
   "cell_type": "markdown",
   "metadata": {},
   "source": [
    "After having formulated the problem the right way, we can start implementing it. In this tutorial we the element-wise problem definition, which is one out of three different ways for implementing a problem. We define a new Python objective inheriting from `ElementwiseProblem` and set the correct attributes, such as the number of objectives (`n_obj`) and constraints (`n_constr`) and the lower (`xl`) and upper bounds (`xu`). The function being responsible for the evaluation is `_evaluate` which shall be implemented next. The function's interface is the parameters `x` and `out`. For this element-wise implementation `x` is a **one**-dimensional NumPy array of length `n_var` which represents a single solution to be evaluated. The output is supposed to be written to the dictionary `out`. The objective values should be written to `out[\"F\"]` as a list of NumPy array with length of `n_obj` and the constraints to `out[\"G\"]` with length of `n_constr` (if the problem has constraints to be satisfied at all)."
   ]
  },
  {
   "cell_type": "code",
   "execution_count": 1,
   "metadata": {
    "execution": {
     "iopub.execute_input": "2022-07-03T13:25:58.138762Z",
     "iopub.status.busy": "2022-07-03T13:25:58.137055Z",
     "iopub.status.idle": "2022-07-03T13:25:58.729826Z",
     "shell.execute_reply": "2022-07-03T13:25:58.729204Z"
    }
   },
   "outputs": [],
   "source": [
    "import numpy as np\n",
    "from pymoo.core.problem import ElementwiseProblem\n",
    "\n",
    "class MyProblem(ElementwiseProblem):\n",
    "\n",
    "    def __init__(self):\n",
    "        super().__init__(n_var=2, \n",
    "                         n_obj=2, \n",
    "                         n_ieq_constr=2, \n",
    "                         xl=np.array([-2,-2]), \n",
    "                         xu=np.array([2,2]))\n",
    "\n",
    "    def _evaluate(self, x, out, *args, **kwargs):\n",
    "        f1 = 100 * (x[0]**2 + x[1]**2)\n",
    "        f2 = (x[0]-1)**2 + x[1]**2\n",
    "        \n",
    "        g1 = 2*(x[0]-0.1) * (x[0]-0.9) / 0.18\n",
    "        g2 = - 20*(x[0]-0.4) * (x[0]-0.6) / 4.8\n",
    "        \n",
    "        out[\"F\"] = [f1, f2]\n",
    "        out[\"G\"] = [g1, g2]\n",
    "        \n",
    "\n",
    "problem = MyProblem()"
   ]
  },
  {
   "cell_type": "raw",
   "metadata": {
    "raw_mimetype": "text/restructuredtext"
   },
   "source": [
    ".. tip::\n",
    "    A problem can be defined in a couple of different ways. Above, the implementation of an **element-wise** implementation is demonstrated, which means the `_evaluate` is called for each solution `x` at a time. Other ways of implementing a problem are **vectorized**, where `x` represents a whole set of solutions or a **functional** and probably more pythonic way by providing for each objective and constraint as a function. For more details, please have a look at the Problem tutorial."
   ]
  },
  {
   "cell_type": "markdown",
   "metadata": {},
   "source": [
    "If you use **pymoo** as a researcher trying to improve existing algorithms, you might want to have a look at the varierity of single- and many-objective optimization test problems already implemented. "
   ]
  },
  {
   "cell_type": "markdown",
   "metadata": {},
   "source": [
    "[Optimization Test Problems](../problems/index.ipynb) | \n",
    "[Define a Custom Problem](../problems/definition.ipynb) | \n",
    "[Parallelization](../problems/parallelization.ipynb) |\n",
    "[Callback](../interface/callback.ipynb) |\n",
    "[Constraint Handling](../constraints/index.ipynb)"
   ]
  },
  {
   "cell_type": "markdown",
   "metadata": {},
   "source": [
    "## Initialize an Algorithm"
   ]
  },
  {
   "cell_type": "markdown",
   "metadata": {},
   "source": [
    "The reason why you became aware of this framework, is probably the existence of an algorithm you like to use. \n",
    "*pymoo* follows an object oriented approach and, thus, we have to define an algorithm object next. \n",
    "Depending on the optimization problem, different algorithms will perform better or worse on different kind of problems. It is recommendable to first understand the intuition behind an algorithm and then select one which seems to be most suitable for solving your optimization problem. A list of algorithms which are available in *pymoo* is available [here](../algorithms/index.ipynb)."
   ]
  },
  {
   "cell_type": "raw",
   "metadata": {},
   "source": [
    "In our case, the optimization problem is rather simple, but the aspect of having two objectives and two constraints should be considered. Thus, let us select the well-known multi-objective algorithm [NSGA-II](../algorithms/moo/nsga2.ipynb). \n",
    "For the majority of algorithms you could either choose the default hyper-parameters or create your own version of the algorithm by modifying them.\n",
    "For instance, for this relatively simple problem we choose a population size of 40 (`pop_size=40`) and with only 10 (`n_offsprings=10`) in each generation. \n",
    "Such an implementation is a greedier variant and improves the convergence of simpler optimization problems without major difficulties regarding optimization, such as the existence of local Pareto-fronts.\n",
    "Moreover, we enable a duplicate check (`eliminate_duplicates=True`), making sure that the mating produces offsprings that are different from themselves and the existing population regarding their design space values. "
   ]
  },
  {
   "cell_type": "code",
   "execution_count": 2,
   "metadata": {
    "execution": {
     "iopub.execute_input": "2022-07-03T13:25:58.741951Z",
     "iopub.status.busy": "2022-07-03T13:25:58.738547Z",
     "iopub.status.idle": "2022-07-03T13:25:58.855824Z",
     "shell.execute_reply": "2022-07-03T13:25:58.854932Z"
    }
   },
   "outputs": [],
   "source": [
    "from pymoo.algorithms.moo.nsga2 import NSGA2\n",
    "from pymoo.operators.crossover.sbx import SBX\n",
    "from pymoo.operators.mutation.pm import PM\n",
    "from pymoo.operators.sampling.rnd import FloatRandomSampling\n",
    "\n",
    "algorithm = NSGA2(\n",
    "    pop_size=40,\n",
    "    n_offsprings=10,\n",
    "    sampling=FloatRandomSampling(),\n",
    "    crossover=SBX(prob=0.9, eta=15),\n",
    "    mutation=PM(eta=20),\n",
    "    eliminate_duplicates=True\n",
    ")\n",
    "\n"
   ]
  },
  {
   "cell_type": "markdown",
   "metadata": {},
   "source": [
    "The `algorithm` object contains an implementation of NSGA-II with the custom configuration discussed above. The object can now be used to start an optimization run."
   ]
  },
  {
   "cell_type": "raw",
   "metadata": {
    "raw_mimetype": "text/restructuredtext"
   },
   "source": [
    ".. tip::\n",
    "    The documentation is designed to make it easy to get started and to copy code for each of the algorithms. However, please be aware that each algorithm comes with all kinds of hyper-parameters to be considered. If an algorithm turns out not to show a good convergence behavior, we encourage you to try different algorithm configurations. For instance, for population-based approaches the population size and number of offsprings, as well as the parameters used for recombination operators are a good starting point."
   ]
  },
  {
   "cell_type": "markdown",
   "metadata": {},
   "source": [
    "## Define a Termination Criterion\n",
    "\n",
    "Furthermore, a termination criterion needs to be defined to start the optimization procedure. Most common ways of defining the termination is by limiting the overall number of function evaluations or simply the number of iterations of the algorithm.\n",
    "Moreover, some algorithms already have implemented their own, for instance Nelder-Mead when the simplex becomes degenerated or CMA-ES where a vendor library is used. \n",
    "Because of the simplicity of this problem we use a rather small number of 40 iteration of the algorithm. "
   ]
  },
  {
   "cell_type": "code",
   "execution_count": 3,
   "metadata": {
    "execution": {
     "iopub.execute_input": "2022-07-03T13:25:58.862790Z",
     "iopub.status.busy": "2022-07-03T13:25:58.862103Z",
     "iopub.status.idle": "2022-07-03T13:25:58.876377Z",
     "shell.execute_reply": "2022-07-03T13:25:58.875374Z"
    }
   },
   "outputs": [],
   "source": [
    "from pymoo.termination import get_termination\n",
    "\n",
    "termination = get_termination(\"n_gen\", 40)"
   ]
  },
  {
   "cell_type": "markdown",
   "metadata": {},
   "source": [
    ".. tip::\n",
    "    A convergence analysis will show how much progress an algorithm has made at what time. Always keep in mind that having the most suitable algorithm but running it not long enough might prevent from finding the global optimum. However, continuing with optimization of an algorithm that got stuck or has already found the optimum will not improve the best found solution and unnecessarily increase the number of function evaluations."
   ]
  },
  {
   "cell_type": "markdown",
   "metadata": {},
   "source": [
    "You can find a list and explanations of termination criteria available in *pymoo* [here](../interface/termination.ipynb). If no termination criteria is defined, then the progress in the design and objective space will kept track of in each iteration. When no significant progress has been made (this is the art of defining what that shall be), the algorithm terminates. "
   ]
  },
  {
   "cell_type": "markdown",
   "metadata": {},
   "source": [
    "## Optimize"
   ]
  },
  {
   "cell_type": "markdown",
   "metadata": {},
   "source": [
    "Finally, we are solving the `problem` with the `algorithm` and `termination` we have defined. The functional interface uses the `minimize` method. By default, the `minimize` performs deep-copies of the algorithm and the termination object which guarantees they are not modified during the function call. This is important to ensure that repetitive function calls with the same random seed end up with the same results. When the algorithm has been terminated, the `minimize` function returns a [Result](../interface/result.ipynb) object."
   ]
  },
  {
   "cell_type": "code",
   "execution_count": 4,
   "metadata": {
    "execution": {
     "iopub.execute_input": "2022-07-03T13:25:58.887870Z",
     "iopub.status.busy": "2022-07-03T13:25:58.884930Z",
     "iopub.status.idle": "2022-07-03T13:26:00.744387Z",
     "shell.execute_reply": "2022-07-03T13:26:00.743538Z"
    }
   },
   "outputs": [
    {
     "name": "stdout",
     "output_type": "stream",
     "text": [
      "==========================================================================================\n",
      "n_gen  |  n_eval  | n_nds  |     cv_min    |     cv_avg    |      eps      |   indicator  \n",
      "==========================================================================================\n",
      "     1 |       40 |      1 |  0.000000E+00 |  2.363992E+01 |             - |             -\n",
      "     2 |       50 |      2 |  0.000000E+00 |  1.214993E+01 |  1.0000000000 |         ideal\n",
      "     3 |       60 |      2 |  0.000000E+00 |  6.2891432227 |  0.000000E+00 |             f\n",
      "     4 |       70 |      3 |  0.000000E+00 |  3.0711269306 |  0.9187378219 |         ideal\n",
      "     5 |       80 |      3 |  0.000000E+00 |  1.6281231204 |  0.2625963068 |         ideal\n",
      "     6 |       90 |      4 |  0.000000E+00 |  0.5267534927 |  0.0328919404 |             f\n",
      "     7 |      100 |      5 |  0.000000E+00 |  0.0905448026 |  0.0431258458 |             f\n",
      "     8 |      110 |      7 |  0.000000E+00 |  0.000000E+00 |  0.2017578962 |         ideal\n",
      "     9 |      120 |      8 |  0.000000E+00 |  0.000000E+00 |  0.0073755952 |             f\n",
      "    10 |      130 |      9 |  0.000000E+00 |  0.000000E+00 |  0.0077998310 |             f\n",
      "    11 |      140 |      9 |  0.000000E+00 |  0.000000E+00 |  0.000000E+00 |             f\n",
      "    12 |      150 |     11 |  0.000000E+00 |  0.000000E+00 |  0.0129496031 |             f\n",
      "    13 |      160 |     11 |  0.000000E+00 |  0.000000E+00 |  0.000000E+00 |             f\n",
      "    14 |      170 |     15 |  0.000000E+00 |  0.000000E+00 |  0.0308766870 |             f\n",
      "    15 |      180 |     15 |  0.000000E+00 |  0.000000E+00 |  0.0047667212 |             f\n",
      "    16 |      190 |     15 |  0.000000E+00 |  0.000000E+00 |  0.000000E+00 |             f\n",
      "    17 |      200 |     17 |  0.000000E+00 |  0.000000E+00 |  0.0181473028 |         ideal\n",
      "    18 |      210 |     19 |  0.000000E+00 |  0.000000E+00 |  0.0151210325 |         ideal\n",
      "    19 |      220 |     21 |  0.000000E+00 |  0.000000E+00 |  0.0018312922 |             f\n",
      "    20 |      230 |     25 |  0.000000E+00 |  0.000000E+00 |  0.0209179792 |         ideal\n",
      "    21 |      240 |     27 |  0.000000E+00 |  0.000000E+00 |  0.0008103615 |             f\n",
      "    22 |      250 |     28 |  0.000000E+00 |  0.000000E+00 |  0.0017189723 |             f\n",
      "    23 |      260 |     31 |  0.000000E+00 |  0.000000E+00 |  0.0020516020 |             f\n",
      "    24 |      270 |     36 |  0.000000E+00 |  0.000000E+00 |  0.0037878376 |             f\n",
      "    25 |      280 |     37 |  0.000000E+00 |  0.000000E+00 |  0.0002265568 |             f\n",
      "    26 |      290 |     40 |  0.000000E+00 |  0.000000E+00 |  0.0138036911 |         ideal\n",
      "    27 |      300 |     40 |  0.000000E+00 |  0.000000E+00 |  0.0007358843 |             f\n",
      "    28 |      310 |     38 |  0.000000E+00 |  0.000000E+00 |  0.0011863589 |             f\n",
      "    29 |      320 |     40 |  0.000000E+00 |  0.000000E+00 |  0.0106757997 |         nadir\n",
      "    30 |      330 |     40 |  0.000000E+00 |  0.000000E+00 |  0.000000E+00 |             f\n",
      "    31 |      340 |     40 |  0.000000E+00 |  0.000000E+00 |  0.0022871441 |             f\n",
      "    32 |      350 |     40 |  0.000000E+00 |  0.000000E+00 |  0.0045457975 |             f\n",
      "    33 |      360 |     40 |  0.000000E+00 |  0.000000E+00 |  0.0128755452 |         ideal\n",
      "    34 |      370 |     40 |  0.000000E+00 |  0.000000E+00 |  0.0008222065 |             f\n",
      "    35 |      380 |     40 |  0.000000E+00 |  0.000000E+00 |  0.0024006737 |             f\n",
      "    36 |      390 |     40 |  0.000000E+00 |  0.000000E+00 |  0.0382020632 |         nadir\n",
      "    37 |      400 |     40 |  0.000000E+00 |  0.000000E+00 |  0.000000E+00 |             f\n",
      "    38 |      410 |     40 |  0.000000E+00 |  0.000000E+00 |  0.0011507931 |             f\n",
      "    39 |      420 |     40 |  0.000000E+00 |  0.000000E+00 |  0.0015307700 |             f\n",
      "    40 |      430 |     40 |  0.000000E+00 |  0.000000E+00 |  0.0025727001 |             f\n"
     ]
    }
   ],
   "source": [
    "from pymoo.optimize import minimize\n",
    "\n",
    "res = minimize(problem,\n",
    "               algorithm,\n",
    "               termination,\n",
    "               seed=1,\n",
    "               save_history=True,\n",
    "               verbose=True)\n",
    "\n",
    "X = res.X\n",
    "F = res.F"
   ]
  },
  {
   "cell_type": "markdown",
   "metadata": {},
   "source": [
    "If the `verbose=True`, some printouts during the algorithm's execution are provided. This can very from algorithm to algorithm. Here, we execute `NSGA2` on a problem where *pymoo* has no knowledge about the optimum. Each line represents one iteration. The first two columns are the current generation counter and the number of evaluations so far. For constrained problems, the next two columns show the minimum constraint violation (*cv (min)*) and the average constraint violation (*cv (avg)*) in the current population. This is followed by the number of non-dominated solutions (*n_nds*) and two more metrics which represents the movement in the objective space. "
   ]
  },
  {
   "cell_type": "raw",
   "metadata": {
    "raw_mimetype": "text/restructuredtext"
   },
   "source": [
    ".. tip::\n",
    "     An algorithm can be executed by using the **minimize** interface as shown below. In order to have more control over the algorithm execution, pymoo also offers an **object-oriented** execution. For an example and a discussion of each's pros and cons, please consult or algorithm tutorial. "
   ]
  },
  {
   "cell_type": "markdown",
   "metadata": {},
   "source": [
    "## Visualize"
   ]
  },
  {
   "cell_type": "markdown",
   "metadata": {},
   "source": [
    "Analyzing the solutions being found by the algorithm is vital. Always a good start is visualizing the solutions to get a grasp of commonalities or if the Pareto-front is known to even check the convergence."
   ]
  },
  {
   "cell_type": "code",
   "execution_count": 5,
   "metadata": {
    "execution": {
     "iopub.execute_input": "2022-07-03T13:26:00.751526Z",
     "iopub.status.busy": "2022-07-03T13:26:00.749901Z",
     "iopub.status.idle": "2022-07-03T13:26:03.086725Z",
     "shell.execute_reply": "2022-07-03T13:26:03.085860Z"
    }
   },
   "outputs": [
    {
     "data": {
      "image/png": "[encoded data removed]",
      "text/plain": [
       "<Figure size 504x360 with 1 Axes>"
      ]
     },
     "metadata": {
      "needs_background": "light"
     },
     "output_type": "display_data"
    }
   ],
   "source": [
    "import matplotlib.pyplot as plt\n",
    "xl, xu = problem.bounds()\n",
    "plt.figure(figsize=(7, 5))\n",
    "plt.scatter(X[:, 0], X[:, 1], s=30, facecolors='none', edgecolors='r')\n",
    "plt.xlim(xl[0], xu[0])\n",
    "plt.ylim(xl[1], xu[1])\n",
    "plt.title(\"Design Space\")\n",
    "plt.show()"
   ]
  },
  {
   "cell_type": "code",
   "execution_count": 6,
   "metadata": {
    "execution": {
     "iopub.execute_input": "2022-07-03T13:26:03.093859Z",
     "iopub.status.busy": "2022-07-03T13:26:03.091885Z",
     "iopub.status.idle": "2022-07-03T13:26:03.517149Z",
     "shell.execute_reply": "2022-07-03T13:26:03.516422Z"
    },
    "tags": []
   },
   "outputs": [
    {
     "data": {
      "image/png": "[encoded data removed]",
      "text/plain": [
       "<Figure size 504x360 with 1 Axes>"
      ]
     },
     "metadata": {
      "needs_background": "light"
     },
     "output_type": "display_data"
    }
   ],
   "source": [
    "plt.figure(figsize=(7, 5))\n",
    "plt.scatter(F[:, 0], F[:, 1], s=30, facecolors='none', edgecolors='blue')\n",
    "plt.title(\"Objective Space\")\n",
    "plt.show()"
   ]
  }
 ],
 "metadata": {
  "kernelspec": {
   "display_name": "Python 3 (ipykernel)",
   "language": "python",
   "name": "python3"
  },
  "language_info": {
   "codemirror_mode": {
    "name": "ipython",
    "version": 3
   },
   "file_extension": ".py",
   "mimetype": "text/x-python",
   "name": "python",
   "nbconvert_exporter": "python",
   "pygments_lexer": "ipython3",
   "version": "3.9.12"
  }
 },
 "nbformat": 4,
 "nbformat_minor": 4
}
