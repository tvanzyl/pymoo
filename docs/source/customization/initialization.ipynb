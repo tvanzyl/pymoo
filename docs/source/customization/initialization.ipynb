{
 "cells": [
  {
   "cell_type": "markdown",
   "metadata": {
    "raw_mimetype": "text/restructuredtext"
   },
   "source": [
    ".. _nb_initialization:"
   ]
  },
  {
   "cell_type": "markdown",
   "metadata": {},
   "source": [
    "# Biased Initialization\n",
    "\n",
    "\n"
   ]
  },
  {
   "cell_type": "markdown",
   "metadata": {},
   "source": [
    "One way of customizing an algorithm is a biased initial population. This can be very helpful if expert knowledge already exists, and known solutions should be improved. In the following, two different ways of initialization are provided: **a)** just providing the design space of the variables and **b)** a `Population` object where the objectives and constraints are provided and are not needed to be calculated again.\n",
    "\n",
    "**NOTE:** This works with all **population-based** algorithms in *pymoo*. Technically speaking, all algorithms which inherit from `GeneticAlgorithm`. For **local-search** based algorithm, the initial solution can be provided by setting `x0` instead of `sampling`."
   ]
  },
  {
   "cell_type": "markdown",
   "metadata": {},
   "source": [
    "## By Array"
   ]
  },
  {
   "cell_type": "code",
   "execution_count": 1,
   "metadata": {
    "execution": {
     "iopub.execute_input": "2022-07-03T13:27:12.930806Z",
     "iopub.status.busy": "2022-07-03T13:27:12.930317Z",
     "iopub.status.idle": "2022-07-03T13:27:13.918416Z",
     "shell.execute_reply": "2022-07-03T13:27:13.917681Z"
    },
    "tags": []
   },
   "outputs": [
    {
     "name": "stdout",
     "output_type": "stream",
     "text": [
      "==========================================================================\n",
      "n_gen  |  n_eval  | n_nds  |      igd      |       gd      |       hv     \n",
      "==========================================================================\n",
      "     1 |      300 |      6 |  3.2972765904 |  3.8611030915 |  0.000000E+00\n",
      "     2 |      400 |      8 |  3.2972592844 |  3.8697347010 |  0.000000E+00\n",
      "     3 |      500 |      5 |  3.0378065667 |  3.7301800964 |  0.000000E+00\n",
      "     4 |      600 |      7 |  2.8874913897 |  3.2834401576 |  0.000000E+00\n"
     ]
    },
    {
     "name": "stdout",
     "output_type": "stream",
     "text": [
      "     5 |      700 |      6 |  2.7517588562 |  2.8854774809 |  0.000000E+00\n",
      "     6 |      800 |      7 |  2.7120607983 |  2.8721097243 |  0.000000E+00\n",
      "     7 |      900 |      8 |  2.4926165918 |  2.7620653005 |  0.000000E+00\n",
      "     8 |     1000 |      8 |  2.2880912269 |  2.3760321988 |  0.000000E+00\n",
      "     9 |     1100 |      5 |  2.1798150854 |  2.2152774920 |  0.000000E+00\n"
     ]
    },
    {
     "name": "stdout",
     "output_type": "stream",
     "text": [
      "    10 |     1200 |      7 |  1.9351190405 |  2.1134458072 |  0.000000E+00\n"
     ]
    },
    {
     "data": {
      "text/plain": [
       "<pymoo.core.result.Result at 0x7fc1ca00ebe0>"
      ]
     },
     "execution_count": 1,
     "metadata": {},
     "output_type": "execute_result"
    }
   ],
   "source": [
    "import numpy as np\n",
    "\n",
    "from pymoo.algorithms.moo.nsga2 import NSGA2\n",
    "from pymoo.factory import get_problem\n",
    "from pymoo.optimize import minimize\n",
    "\n",
    "problem = get_problem(\"zdt2\")\n",
    "\n",
    "X = np.random.random((300, problem.n_var))\n",
    "\n",
    "algorithm = NSGA2(pop_size=100, sampling=X)\n",
    "\n",
    "minimize(problem,\n",
    "         algorithm,\n",
    "         ('n_gen', 10),\n",
    "         seed=1,\n",
    "         verbose=True)"
   ]
  },
  {
   "cell_type": "markdown",
   "metadata": {},
   "source": [
    "## By Population (pre-evaluated)"
   ]
  },
  {
   "cell_type": "code",
   "execution_count": 2,
   "metadata": {
    "execution": {
     "iopub.execute_input": "2022-07-03T13:27:13.927014Z",
     "iopub.status.busy": "2022-07-03T13:27:13.923011Z",
     "iopub.status.idle": "2022-07-03T13:27:14.522816Z",
     "shell.execute_reply": "2022-07-03T13:27:14.522062Z"
    },
    "tags": []
   },
   "outputs": [
    {
     "name": "stdout",
     "output_type": "stream",
     "text": [
      "==========================================================================\n",
      "n_gen  |  n_eval  | n_nds  |      igd      |       gd      |       hv     \n",
      "==========================================================================\n",
      "     1 |        0 |      5 |  3.4108800869 |  4.0003371961 |  0.000000E+00\n",
      "     2 |      100 |      5 |  3.4108800869 |  3.8718284156 |  0.000000E+00\n",
      "     3 |      200 |      4 |  3.1157301998 |  3.7275101406 |  0.000000E+00\n",
      "     4 |      300 |      4 |  3.0127874970 |  3.0492687106 |  0.000000E+00\n",
      "     5 |      400 |      7 |  2.6880321791 |  2.8649340022 |  0.000000E+00\n"
     ]
    },
    {
     "name": "stdout",
     "output_type": "stream",
     "text": [
      "     6 |      500 |      9 |  2.6779226152 |  2.8312707655 |  0.000000E+00\n",
      "     7 |      600 |     10 |  2.1690474000 |  2.7915048359 |  0.000000E+00\n",
      "     8 |      700 |      6 |  2.0638239820 |  2.4523070183 |  0.000000E+00\n",
      "     9 |      800 |      8 |  2.0638239820 |  2.3650853210 |  0.000000E+00\n",
      "    10 |      900 |     10 |  2.0506436393 |  2.3185827214 |  0.000000E+00\n"
     ]
    },
    {
     "data": {
      "text/plain": [
       "<pymoo.core.result.Result at 0x7fc1ca006580>"
      ]
     },
     "execution_count": 2,
     "metadata": {},
     "output_type": "execute_result"
    }
   ],
   "source": [
    "import numpy as np\n",
    "\n",
    "from pymoo.algorithms.moo.nsga2 import NSGA2\n",
    "from pymoo.factory import get_problem\n",
    "from pymoo.core.evaluator import Evaluator\n",
    "from pymoo.core.population import Population\n",
    "from pymoo.optimize import minimize\n",
    "\n",
    "problem = get_problem(\"zdt2\")\n",
    "\n",
    "# create initial data and set to the population object\n",
    "X = np.random.random((300, problem.n_var))\n",
    "pop = Population.new(\"X\", X)\n",
    "Evaluator().eval(problem, pop)\n",
    "\n",
    "algorithm = NSGA2(pop_size=100, sampling=pop)\n",
    "\n",
    "minimize(problem,\n",
    "         algorithm,\n",
    "         ('n_gen', 10),\n",
    "         seed=1,\n",
    "         verbose=True)"
   ]
  }
 ],
 "metadata": {
  "kernelspec": {
   "display_name": "Python 3",
   "language": "python",
   "name": "python3"
  },
  "language_info": {
   "codemirror_mode": {
    "name": "ipython",
    "version": 3
   },
   "file_extension": ".py",
   "mimetype": "text/x-python",
   "name": "python",
   "nbconvert_exporter": "python",
   "pygments_lexer": "ipython3",
   "version": "3.9.12"
  }
 },
 "nbformat": 4,
 "nbformat_minor": 4
}
