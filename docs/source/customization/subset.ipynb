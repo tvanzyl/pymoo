{
 "cells": [
  {
   "cell_type": "markdown",
   "metadata": {
    "raw_mimetype": "text/restructuredtext"
   },
   "source": [
    ".. _nb_subset_selection:"
   ]
  },
  {
   "cell_type": "markdown",
   "metadata": {},
   "source": [
    "## Subset Selection Problem\n",
    "\n",
    "A genetic algorithm can be used to approach subset selection problems by defining custom operators. In general, a metaheuristic algorithm might not be the ultimate goal to implement in a real-world scenario; however, it might be useful to investigate patterns or characteristics of possible well-performing subsets. \n",
    "Let us consider a simple toy problem where we have to select numbers from a list. For every solution, exactly ten numbers have to be selected that their sum is minimized.\n",
    "For the subset selection problem, a binary encoding can be used where **one** indicates a number is picked. In our problem formulation, the list of numbers is represented by $L$ and the binary encoded variable by $x$."
   ]
  },
  {
   "cell_type": "markdown",
   "metadata": {},
   "source": [
    "\n",
    "\\begin{align}\n",
    "\\begin{split}\n",
    "\\min f(x) & = & \\sum_{k=1}^{n} L_k \\cdot x_k\\\\[2mm]\n",
    "\\text{s.t.} \\quad g(x)  & = & (\\sum_{k=1}^{n} x_k - 10)^2\\\\[2mm]\n",
    "\\end{split}\n",
    "\\end{align}\n"
   ]
  },
  {
   "cell_type": "markdown",
   "metadata": {},
   "source": [
    "As shown above, the equality constraint is handled by ensuring $g(x)$ can only be zero if exactly ten numbers are chosen.\n",
    "The problem can be implemented as follows:"
   ]
  },
  {
   "cell_type": "code",
   "execution_count": 1,
   "metadata": {
    "execution": {
     "iopub.execute_input": "2022-07-03T13:26:53.586308Z",
     "iopub.status.busy": "2022-07-03T13:26:53.585358Z",
     "iopub.status.idle": "2022-07-03T13:26:54.286767Z",
     "shell.execute_reply": "2022-07-03T13:26:54.285876Z"
    }
   },
   "outputs": [],
   "source": [
    "import numpy as np\n",
    "from pymoo.core.problem import ElementwiseProblem\n",
    "\n",
    "class SubsetProblem(ElementwiseProblem):\n",
    "    def __init__(self,\n",
    "                 L,\n",
    "                 n_max\n",
    "                 ):\n",
    "        super().__init__(n_var=len(L), n_obj=1, n_ieq_constr=1)\n",
    "        self.L = L\n",
    "        self.n_max = n_max\n",
    "\n",
    "    def _evaluate(self, x, out, *args, **kwargs):\n",
    "        out[\"F\"] = np.sum(self.L[x])\n",
    "        out[\"G\"] = (self.n_max - np.sum(x)) ** 2\n",
    "    \n",
    "    \n",
    "# create the actual problem to be solved\n",
    "np.random.seed(1)\n",
    "L = np.array([np.random.randint(100) for _ in range(100)])\n",
    "n_max = 10\n",
    "problem = SubsetProblem(L, n_max)\n"
   ]
  },
  {
   "cell_type": "markdown",
   "metadata": {},
   "source": [
    "The customization requires writing custom operators in order to solve this problem efficiently. We recommend considering the feasibility directly in the evolutionary operators because otherwise, most of the time, infeasible solutions will be processed.\n",
    "The sampling creates a random solution where the subset constraint will always be satisfied. \n",
    "The mutation randomly removes a number and chooses another one. The crossover takes the values of both parents and then randomly picks either the one from the first or from the second parent until enough numbers are picked."
   ]
  },
  {
   "cell_type": "code",
   "execution_count": 2,
   "metadata": {
    "execution": {
     "iopub.execute_input": "2022-07-03T13:26:54.301996Z",
     "iopub.status.busy": "2022-07-03T13:26:54.296790Z",
     "iopub.status.idle": "2022-07-03T13:26:54.366317Z",
     "shell.execute_reply": "2022-07-03T13:26:54.361100Z"
    }
   },
   "outputs": [],
   "source": [
    "from pymoo.core.crossover import Crossover\n",
    "from pymoo.core.mutation import Mutation\n",
    "from pymoo.core.sampling import Sampling\n",
    "\n",
    "\n",
    "class MySampling(Sampling):\n",
    "\n",
    "    def _do(self, problem, n_samples, **kwargs):\n",
    "        X = np.full((n_samples, problem.n_var), False, dtype=bool)\n",
    "\n",
    "        for k in range(n_samples):\n",
    "            I = np.random.permutation(problem.n_var)[:problem.n_max]\n",
    "            X[k, I] = True\n",
    "\n",
    "        return X\n",
    "\n",
    "\n",
    "class BinaryCrossover(Crossover):\n",
    "    def __init__(self):\n",
    "        super().__init__(2, 1)\n",
    "\n",
    "    def _do(self, problem, X, **kwargs):\n",
    "        n_parents, n_matings, n_var = X.shape\n",
    "\n",
    "        _X = np.full((self.n_offsprings, n_matings, problem.n_var), False)\n",
    "\n",
    "        for k in range(n_matings):\n",
    "            p1, p2 = X[0, k], X[1, k]\n",
    "\n",
    "            both_are_true = np.logical_and(p1, p2)\n",
    "            _X[0, k, both_are_true] = True\n",
    "\n",
    "            n_remaining = problem.n_max - np.sum(both_are_true)\n",
    "\n",
    "            I = np.where(np.logical_xor(p1, p2))[0]\n",
    "\n",
    "            S = I[np.random.permutation(len(I))][:n_remaining]\n",
    "            _X[0, k, S] = True\n",
    "\n",
    "        return _X\n",
    "\n",
    "\n",
    "class MyMutation(Mutation):\n",
    "    def _do(self, problem, X, **kwargs):\n",
    "        for i in range(X.shape[0]):\n",
    "            X[i, :] = X[i, :]\n",
    "            is_false = np.where(np.logical_not(X[i, :]))[0]\n",
    "            is_true = np.where(X[i, :])[0]\n",
    "            X[i, np.random.choice(is_false)] = True\n",
    "            X[i, np.random.choice(is_true)] = False\n",
    "\n",
    "        return X"
   ]
  },
  {
   "cell_type": "markdown",
   "metadata": {},
   "source": [
    "After having defined the operators a genetic algorithm can be initialized."
   ]
  },
  {
   "cell_type": "code",
   "execution_count": 3,
   "metadata": {
    "execution": {
     "iopub.execute_input": "2022-07-03T13:26:54.382124Z",
     "iopub.status.busy": "2022-07-03T13:26:54.374602Z",
     "iopub.status.idle": "2022-07-03T13:26:59.038937Z",
     "shell.execute_reply": "2022-07-03T13:26:59.038124Z"
    }
   },
   "outputs": [
    {
     "name": "stdout",
     "output_type": "stream",
     "text": [
      "=================================================================================\n",
      "n_gen  |  n_eval  |     cv_min    |     cv_avg    |     f_avg     |     f_min    \n",
      "=================================================================================\n",
      "     1 |      100 |  0.000000E+00 |  0.000000E+00 |  4.439400E+02 |  2.580000E+02\n",
      "     2 |      200 |  0.000000E+00 |  0.000000E+00 |  3.495200E+02 |  2.040000E+02\n"
     ]
    },
    {
     "name": "stdout",
     "output_type": "stream",
     "text": [
      "     3 |      300 |  0.000000E+00 |  0.000000E+00 |  3.070100E+02 |  1.880000E+02\n",
      "     4 |      400 |  0.000000E+00 |  0.000000E+00 |  2.683900E+02 |  1.650000E+02\n",
      "     5 |      500 |  0.000000E+00 |  0.000000E+00 |  2.312200E+02 |  1.340000E+02"
     ]
    },
    {
     "name": "stdout",
     "output_type": "stream",
     "text": [
      "\n",
      "     6 |      600 |  0.000000E+00 |  0.000000E+00 |  2.046400E+02 |  1.280000E+02\n"
     ]
    },
    {
     "name": "stdout",
     "output_type": "stream",
     "text": [
      "     7 |      700 |  0.000000E+00 |  0.000000E+00 |  1.805100E+02 |  1.170000E+02\n",
      "     8 |      800 |  0.000000E+00 |  0.000000E+00 |  1.600100E+02 |  9.900000E+01\n",
      "     9 |      900 |  0.000000E+00 |  0.000000E+00 |  1.431800E+02 |  8.600000E+01"
     ]
    },
    {
     "name": "stdout",
     "output_type": "stream",
     "text": [
      "\n",
      "    10 |     1000 |  0.000000E+00 |  0.000000E+00 |  1.300900E+02 |  7.800000E+01\n",
      "    11 |     1100 |  0.000000E+00 |  0.000000E+00 |  1.180200E+02 |  7.800000E+01\n"
     ]
    },
    {
     "name": "stdout",
     "output_type": "stream",
     "text": [
      "    12 |     1200 |  0.000000E+00 |  0.000000E+00 |  1.104100E+02 |  7.700000E+01\n",
      "    13 |     1300 |  0.000000E+00 |  0.000000E+00 |  1.047700E+02 |  7.000000E+01\n",
      "    14 |     1400 |  0.000000E+00 |  0.000000E+00 |  9.968000E+01 |  7.000000E+01\n"
     ]
    },
    {
     "name": "stdout",
     "output_type": "stream",
     "text": [
      "    15 |     1500 |  0.000000E+00 |  0.000000E+00 |  9.599000E+01 |  6.500000E+01\n",
      "    16 |     1600 |  0.000000E+00 |  0.000000E+00 |  9.186000E+01 |  5.800000E+01\n",
      "    17 |     1700 |  0.000000E+00 |  0.000000E+00 |  8.930000E+01 |  5.800000E+01\n",
      "    18 |     1800 |  0.000000E+00 |  0.000000E+00 |  8.628000E+01 |  5.800000E+01\n",
      "    19 |     1900 |  0.000000E+00 |  0.000000E+00 |  8.270000E+01 |  5.700000E+01\n",
      "    20 |     2000 |  0.000000E+00 |  0.000000E+00 |  7.919000E+01 |  5.400000E+01\n"
     ]
    },
    {
     "name": "stdout",
     "output_type": "stream",
     "text": [
      "    21 |     2100 |  0.000000E+00 |  0.000000E+00 |  7.606000E+01 |  5.100000E+01\n",
      "    22 |     2200 |  0.000000E+00 |  0.000000E+00 |  7.372000E+01 |  5.100000E+01\n",
      "    23 |     2300 |  0.000000E+00 |  0.000000E+00 |  7.201000E+01 |  5.100000E+01\n"
     ]
    },
    {
     "name": "stdout",
     "output_type": "stream",
     "text": [
      "    24 |     2400 |  0.000000E+00 |  0.000000E+00 |  7.003000E+01 |  5.100000E+01\n",
      "    25 |     2500 |  0.000000E+00 |  0.000000E+00 |  6.804000E+01 |  4.900000E+01\n",
      "    26 |     2600 |  0.000000E+00 |  0.000000E+00 |  6.613000E+01 |  4.900000E+01\n",
      "    27 |     2700 |  0.000000E+00 |  0.000000E+00 |  6.472000E+01 |  4.900000E+01\n"
     ]
    },
    {
     "name": "stdout",
     "output_type": "stream",
     "text": [
      "    28 |     2800 |  0.000000E+00 |  0.000000E+00 |  6.356000E+01 |  4.900000E+01\n",
      "    29 |     2900 |  0.000000E+00 |  0.000000E+00 |  6.168000E+01 |  4.100000E+01\n",
      "    30 |     3000 |  0.000000E+00 |  0.000000E+00 |  6.109000E+01 |  4.100000E+01\n",
      "    31 |     3100 |  0.000000E+00 |  0.000000E+00 |  6.007000E+01 |  4.100000E+01\n"
     ]
    },
    {
     "name": "stdout",
     "output_type": "stream",
     "text": [
      "    32 |     3200 |  0.000000E+00 |  0.000000E+00 |  5.863000E+01 |  4.100000E+01\n",
      "    33 |     3300 |  0.000000E+00 |  0.000000E+00 |  5.753000E+01 |  4.000000E+01\n",
      "    34 |     3400 |  0.000000E+00 |  0.000000E+00 |  5.675000E+01 |  4.000000E+01\n",
      "    35 |     3500 |  0.000000E+00 |  0.000000E+00 |  5.548000E+01 |  3.900000E+01\n"
     ]
    },
    {
     "name": "stdout",
     "output_type": "stream",
     "text": [
      "    36 |     3600 |  0.000000E+00 |  0.000000E+00 |  5.505000E+01 |  3.900000E+01\n",
      "    37 |     3700 |  0.000000E+00 |  0.000000E+00 |  5.423000E+01 |  3.900000E+01\n",
      "    38 |     3800 |  0.000000E+00 |  0.000000E+00 |  5.329000E+01 |  3.900000E+01\n",
      "    39 |     3900 |  0.000000E+00 |  0.000000E+00 |  5.210000E+01 |  3.900000E+01\n"
     ]
    },
    {
     "name": "stdout",
     "output_type": "stream",
     "text": [
      "    40 |     4000 |  0.000000E+00 |  0.000000E+00 |  5.071000E+01 |  3.900000E+01\n",
      "    41 |     4100 |  0.000000E+00 |  0.000000E+00 |  5.021000E+01 |  3.900000E+01\n",
      "    42 |     4200 |  0.000000E+00 |  0.000000E+00 |  4.906000E+01 |  3.900000E+01\n",
      "    43 |     4300 |  0.000000E+00 |  0.000000E+00 |  4.808000E+01 |  3.900000E+01\n"
     ]
    },
    {
     "name": "stdout",
     "output_type": "stream",
     "text": [
      "    44 |     4400 |  0.000000E+00 |  0.000000E+00 |  4.789000E+01 |  3.900000E+01\n",
      "    45 |     4500 |  0.000000E+00 |  0.000000E+00 |  4.756000E+01 |  3.900000E+01\n",
      "    46 |     4600 |  0.000000E+00 |  0.000000E+00 |  4.718000E+01 |  3.900000E+01\n",
      "    47 |     4700 |  0.000000E+00 |  0.000000E+00 |  4.672000E+01 |  3.900000E+01\n"
     ]
    },
    {
     "name": "stdout",
     "output_type": "stream",
     "text": [
      "    48 |     4800 |  0.000000E+00 |  0.000000E+00 |  4.621000E+01 |  3.900000E+01\n",
      "    49 |     4900 |  0.000000E+00 |  0.000000E+00 |  4.583000E+01 |  3.800000E+01\n",
      "    50 |     5000 |  0.000000E+00 |  0.000000E+00 |  4.545000E+01 |  3.800000E+01\n",
      "    51 |     5100 |  0.000000E+00 |  0.000000E+00 |  4.497000E+01 |  3.800000E+01\n"
     ]
    },
    {
     "name": "stdout",
     "output_type": "stream",
     "text": [
      "    52 |     5200 |  0.000000E+00 |  0.000000E+00 |  4.482000E+01 |  3.800000E+01\n",
      "    53 |     5300 |  0.000000E+00 |  0.000000E+00 |  4.473000E+01 |  3.800000E+01\n",
      "    54 |     5400 |  0.000000E+00 |  0.000000E+00 |  4.458000E+01 |  3.700000E+01\n",
      "    55 |     5500 |  0.000000E+00 |  0.000000E+00 |  4.437000E+01 |  3.700000E+01\n"
     ]
    },
    {
     "name": "stdout",
     "output_type": "stream",
     "text": [
      "    56 |     5600 |  0.000000E+00 |  0.000000E+00 |  4.409000E+01 |  3.700000E+01\n",
      "    57 |     5700 |  0.000000E+00 |  0.000000E+00 |  4.394000E+01 |  3.700000E+01\n",
      "    58 |     5800 |  0.000000E+00 |  0.000000E+00 |  4.385000E+01 |  3.700000E+01\n",
      "    59 |     5900 |  0.000000E+00 |  0.000000E+00 |  4.374000E+01 |  3.700000E+01\n"
     ]
    },
    {
     "name": "stdout",
     "output_type": "stream",
     "text": [
      "    60 |     6000 |  0.000000E+00 |  0.000000E+00 |  4.360000E+01 |  3.700000E+01\n",
      "Function value: 37.0\n",
      "Subset: [ 5  9 12 31 36 37 40 47 52 99]\n"
     ]
    }
   ],
   "source": [
    "from pymoo.algorithms.soo.nonconvex.ga import GA\n",
    "from pymoo.optimize import minimize\n",
    "\n",
    "algorithm = GA(\n",
    "    pop_size=100,\n",
    "    sampling=MySampling(),\n",
    "    crossover=BinaryCrossover(),\n",
    "    mutation=MyMutation(),\n",
    "    eliminate_duplicates=True)\n",
    "\n",
    "res = minimize(problem,\n",
    "               algorithm,\n",
    "               ('n_gen', 60),\n",
    "               seed=1,\n",
    "               verbose=True)\n",
    "\n",
    "print(\"Function value: %s\" % res.F[0])\n",
    "print(\"Subset:\", np.where(res.X)[0])\n"
   ]
  },
  {
   "cell_type": "markdown",
   "metadata": {},
   "source": [
    "Finally, we can compare the found subset with the optimum known simply through sorting:"
   ]
  },
  {
   "cell_type": "code",
   "execution_count": 4,
   "metadata": {
    "execution": {
     "iopub.execute_input": "2022-07-03T13:26:59.046656Z",
     "iopub.status.busy": "2022-07-03T13:26:59.044375Z",
     "iopub.status.idle": "2022-07-03T13:26:59.062632Z",
     "shell.execute_reply": "2022-07-03T13:26:59.061914Z"
    }
   },
   "outputs": [
    {
     "name": "stdout",
     "output_type": "stream",
     "text": [
      "Optimal Subset: [ 5  9 12 31 36 37 47 52 68 99]\n",
      "Optimal Function Value: 36\n"
     ]
    }
   ],
   "source": [
    "opt = np.sort(np.argsort(L)[:n_max])\n",
    "print(\"Optimal Subset:\", opt)\n",
    "print(\"Optimal Function Value: %s\" % L[opt].sum())"
   ]
  }
 ],
 "metadata": {
  "kernelspec": {
   "display_name": "Python 3",
   "language": "python",
   "name": "python3"
  },
  "language_info": {
   "codemirror_mode": {
    "name": "ipython",
    "version": 3
   },
   "file_extension": ".py",
   "mimetype": "text/x-python",
   "name": "python",
   "nbconvert_exporter": "python",
   "pygments_lexer": "ipython3",
   "version": "3.9.12"
  }
 },
 "nbformat": 4,
 "nbformat_minor": 4
}
