{
 "cells": [
  {
   "cell_type": "markdown",
   "metadata": {
    "raw_mimetype": "text/restructuredtext"
   },
   "source": [
    ".. _nb_callback:"
   ]
  },
  {
   "cell_type": "markdown",
   "metadata": {},
   "source": [
    "## Callback"
   ]
  },
  {
   "cell_type": "markdown",
   "metadata": {},
   "source": [
    "A `Callback` class can be used to receive a notification of the algorithm object each generation.\n",
    "This can be useful to track metrics, do additional calculations, or even modify the algorithm object during the run.\n",
    "The latter is only recommended for experienced users.\n",
    "\n",
    "The example below implements a less memory-intense version of keeping track of the convergence. A posteriori analysis can one the one hand, be done by using the `save_history=True` option. This, however, stores a deep copy of the `Algorithm` object in each iteration. This might be more information than necessary, and thus, the `Callback` allows to select only the information necessary to be analyzed when the run has terminated. Another good use case can be to visualize data in each iteration in real-time."
   ]
  },
  {
   "cell_type": "raw",
   "metadata": {
    "raw_mimetype": "text/restructuredtext"
   },
   "source": [
    ".. admonition:: Tip\n",
    "    :class: myOwnStyle\n",
    "\n",
    "    The callback has **full** access to the algorithm object and thus can also alter it. However, the callback's purpose is not to customize an algorithm but to store or process data."
   ]
  },
  {
   "cell_type": "code",
   "execution_count": 1,
   "metadata": {
    "execution": {
     "iopub.execute_input": "2022-07-03T13:09:55.118282Z",
     "iopub.status.busy": "2022-07-03T13:09:55.112958Z",
     "iopub.status.idle": "2022-07-03T13:09:58.675945Z",
     "shell.execute_reply": "2022-07-03T13:09:58.675219Z"
    },
    "tags": []
   },
   "outputs": [
    {
     "name": "stdout",
     "output_type": "stream",
     "text": [
      "=================================================\n",
      "n_gen  |  n_eval  |     f_avg     |     f_min    \n",
      "=================================================\n",
      "     1 |      100 |  0.8314974785 |  0.3870993357\n",
      "     2 |      200 |  0.5728811989 |  0.3071356545\n",
      "     3 |      300 |  0.4523366436 |  0.1591399934\n",
      "     4 |      400 |  0.3480841542 |  0.1222719318\n",
      "     5 |      500 |  0.2572795703 |  0.1044558798\n",
      "     6 |      600 |  0.1870256498 |  0.0939203003\n",
      "     7 |      700 |  0.1423726057 |  0.0754587506\n",
      "     8 |      800 |  0.1101575635 |  0.0417910154\n"
     ]
    },
    {
     "name": "stdout",
     "output_type": "stream",
     "text": [
      "     9 |      900 |  0.0891568703 |  0.0389292386\n",
      "    10 |     1000 |  0.0693194019 |  0.0369356475\n",
      "    11 |     1100 |  0.0543914587 |  0.0222330030\n",
      "    12 |     1200 |  0.0428816950 |  0.0222330030\n",
      "    13 |     1300 |  0.0342804012 |  0.0144665822\n",
      "    14 |     1400 |  0.0269554965 |  0.0127357215\n",
      "    15 |     1500 |  0.0213341787 |  0.0048246707\n",
      "    16 |     1600 |  0.0164731825 |  0.0048246707\n"
     ]
    },
    {
     "name": "stdout",
     "output_type": "stream",
     "text": [
      "    17 |     1700 |  0.0131331443 |  0.0048246707\n",
      "    18 |     1800 |  0.0103942386 |  0.0037500212\n",
      "    19 |     1900 |  0.0086392811 |  0.0034754192\n",
      "    20 |     2000 |  0.0068967406 |  0.0023935702\n"
     ]
    },
    {
     "data": {
      "image/png": "[encoded data removed]",
      "text/plain": [
       "<Figure size 432x288 with 1 Axes>"
      ]
     },
     "metadata": {
      "needs_background": "light"
     },
     "output_type": "display_data"
    }
   ],
   "source": [
    "import matplotlib.pyplot as plt\n",
    "import numpy as np\n",
    "\n",
    "from pymoo.algorithms.soo.nonconvex.ga import GA\n",
    "from pymoo.factory import get_problem\n",
    "from pymoo.core.callback import Callback\n",
    "from pymoo.optimize import minimize\n",
    "\n",
    "\n",
    "class MyCallback(Callback):\n",
    "\n",
    "    def __init__(self) -> None:\n",
    "        super().__init__()\n",
    "        self.data[\"best\"] = []\n",
    "\n",
    "    def notify(self, algorithm):\n",
    "        self.data[\"best\"].append(algorithm.pop.get(\"F\").min())\n",
    "\n",
    "\n",
    "problem = get_problem(\"sphere\")\n",
    "\n",
    "algorithm = GA(pop_size=100)\n",
    "\n",
    "res = minimize(problem,\n",
    "               algorithm,\n",
    "               ('n_gen', 20),\n",
    "               seed=1,\n",
    "               callback=MyCallback(),\n",
    "               verbose=True)\n",
    "\n",
    "val = res.algorithm.callback.data[\"best\"]\n",
    "plt.plot(np.arange(len(val)), val)\n",
    "plt.show()\n",
    "\n"
   ]
  },
  {
   "cell_type": "markdown",
   "metadata": {},
   "source": [
    "**Note** that the `Callback` object from the `Result` object needs to be accessed `res.algorithm.callback` because the original object keeps unmodified to ensure reproducibility."
   ]
  },
  {
   "cell_type": "markdown",
   "metadata": {},
   "source": [
    "For completeness, the history-based convergence analysis looks as follows:"
   ]
  },
  {
   "cell_type": "code",
   "execution_count": 2,
   "metadata": {
    "execution": {
     "iopub.execute_input": "2022-07-03T13:09:58.684368Z",
     "iopub.status.busy": "2022-07-03T13:09:58.682539Z",
     "iopub.status.idle": "2022-07-03T13:09:59.932456Z",
     "shell.execute_reply": "2022-07-03T13:09:59.931820Z"
    }
   },
   "outputs": [
    {
     "data": {
      "image/png": "[encoded data removed]",
      "text/plain": [
       "<Figure size 432x288 with 1 Axes>"
      ]
     },
     "metadata": {
      "needs_background": "light"
     },
     "output_type": "display_data"
    }
   ],
   "source": [
    "res = minimize(problem,\n",
    "               algorithm,\n",
    "               ('n_gen', 20),\n",
    "               seed=1,\n",
    "               save_history=True)\n",
    "\n",
    "val = [e.opt.get(\"F\")[0] for e in res.history]\n",
    "plt.plot(np.arange(len(val)), val)\n",
    "plt.show()"
   ]
  }
 ],
 "metadata": {
  "kernelspec": {
   "display_name": "Python 3",
   "language": "python",
   "name": "python3"
  },
  "language_info": {
   "codemirror_mode": {
    "name": "ipython",
    "version": 3
   },
   "file_extension": ".py",
   "mimetype": "text/x-python",
   "name": "python",
   "nbconvert_exporter": "python",
   "pygments_lexer": "ipython3",
   "version": "3.9.12"
  }
 },
 "nbformat": 4,
 "nbformat_minor": 4
}
