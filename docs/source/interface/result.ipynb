{
 "cells": [
  {
   "cell_type": "markdown",
   "metadata": {
    "raw_mimetype": "text/restructuredtext"
   },
   "source": [
    ".. _nb_interface_results:"
   ]
  },
  {
   "cell_type": "markdown",
   "metadata": {},
   "source": [
    "## Result"
   ]
  },
  {
   "cell_type": "markdown",
   "metadata": {},
   "source": [
    "After an algorithm has been executed a result object is returned. In the following, single- and multi-objective runs with and without constraints are shown and the corresponding `Result` object is explained:"
   ]
  },
  {
   "cell_type": "code",
   "execution_count": 1,
   "metadata": {
    "execution": {
     "iopub.execute_input": "2022-07-03T13:09:44.839328Z",
     "iopub.status.busy": "2022-07-03T13:09:44.838389Z",
     "iopub.status.idle": "2022-07-03T13:09:45.812297Z",
     "shell.execute_reply": "2022-07-03T13:09:45.811391Z"
    },
    "tags": []
   },
   "outputs": [],
   "source": [
    "from pymoo.algorithms.soo.nonconvex.ga import GA\n",
    "from pymoo.factory import get_problem\n",
    "from pymoo.optimize import minimize\n",
    "\n",
    "\n",
    "problem = get_problem(\"sphere\")\n",
    "algorithm = GA(pop_size=5)\n",
    "res = minimize(problem,\n",
    "               algorithm,\n",
    "               ('n_gen', 30),\n",
    "               seed=1)"
   ]
  },
  {
   "cell_type": "markdown",
   "metadata": {},
   "source": [
    "After an algorithm has been executed, a result object is returned. In the following, single- and multi-objective runs with and without constraints are shown, and the corresponding `Result` object is explained:\n",
    "\n",
    "In this single-objective optimization problem, there exists a single best solution that was found. \n",
    "The result directly contains the best-found values in the corresponding spaces. \n",
    "\n",
    "- `res.X`: Design space values are \n",
    "- `res.F`: Objective spaces values\n",
    "- `res.G`: Constraint values\n",
    "- `res.CV`: Aggregated constraint violation\n",
    "- `res.algorithm`: Algorithm object which has been iterated over\n",
    "- `res.opt`: The solutions as a `Population` object.\n",
    "- `res.pop`: The final Population\n",
    "- `res.history`: The history of the algorithm. (only if `save_history` has been enabled during the algorithm initialization)\n",
    "- `res.time`: The time required to run the algorithm\n"
   ]
  },
  {
   "cell_type": "code",
   "execution_count": 2,
   "metadata": {
    "execution": {
     "iopub.execute_input": "2022-07-03T13:09:45.824731Z",
     "iopub.status.busy": "2022-07-03T13:09:45.822572Z",
     "iopub.status.idle": "2022-07-03T13:09:45.857168Z",
     "shell.execute_reply": "2022-07-03T13:09:45.856276Z"
    },
    "tags": []
   },
   "outputs": [
    {
     "data": {
      "text/plain": [
       "array([0.50305402, 0.54583153, 0.47366022, 0.63154198, 0.31329839,\n",
       "       0.48768218, 0.44978303, 0.56120964, 0.27160985, 0.40120548])"
      ]
     },
     "execution_count": 2,
     "metadata": {},
     "output_type": "execute_result"
    }
   ],
   "source": [
    "res.X"
   ]
  },
  {
   "cell_type": "code",
   "execution_count": 3,
   "metadata": {
    "execution": {
     "iopub.execute_input": "2022-07-03T13:09:45.869044Z",
     "iopub.status.busy": "2022-07-03T13:09:45.866602Z",
     "iopub.status.idle": "2022-07-03T13:09:45.882992Z",
     "shell.execute_reply": "2022-07-03T13:09:45.882049Z"
    },
    "tags": []
   },
   "outputs": [
    {
     "data": {
      "text/plain": [
       "array([0.12330693])"
      ]
     },
     "execution_count": 3,
     "metadata": {},
     "output_type": "execute_result"
    }
   ],
   "source": [
    "res.F"
   ]
  },
  {
   "cell_type": "code",
   "execution_count": 4,
   "metadata": {
    "execution": {
     "iopub.execute_input": "2022-07-03T13:09:45.889284Z",
     "iopub.status.busy": "2022-07-03T13:09:45.888648Z",
     "iopub.status.idle": "2022-07-03T13:09:45.905106Z",
     "shell.execute_reply": "2022-07-03T13:09:45.904324Z"
    },
    "tags": []
   },
   "outputs": [
    {
     "data": {
      "text/plain": [
       "array([], dtype=float64)"
      ]
     },
     "execution_count": 4,
     "metadata": {},
     "output_type": "execute_result"
    }
   ],
   "source": [
    "res.G"
   ]
  },
  {
   "cell_type": "code",
   "execution_count": 5,
   "metadata": {
    "execution": {
     "iopub.execute_input": "2022-07-03T13:09:45.911077Z",
     "iopub.status.busy": "2022-07-03T13:09:45.910366Z",
     "iopub.status.idle": "2022-07-03T13:09:45.923998Z",
     "shell.execute_reply": "2022-07-03T13:09:45.923140Z"
    },
    "tags": []
   },
   "outputs": [
    {
     "data": {
      "text/plain": [
       "array([0.])"
      ]
     },
     "execution_count": 5,
     "metadata": {},
     "output_type": "execute_result"
    }
   ],
   "source": [
    "res.CV"
   ]
  },
  {
   "cell_type": "code",
   "execution_count": 6,
   "metadata": {
    "execution": {
     "iopub.execute_input": "2022-07-03T13:09:45.936602Z",
     "iopub.status.busy": "2022-07-03T13:09:45.935493Z",
     "iopub.status.idle": "2022-07-03T13:09:45.951561Z",
     "shell.execute_reply": "2022-07-03T13:09:45.950773Z"
    },
    "tags": []
   },
   "outputs": [
    {
     "data": {
      "text/plain": [
       "<pymoo.algorithms.soo.nonconvex.ga.GA at 0x7ffb7d1a4910>"
      ]
     },
     "execution_count": 6,
     "metadata": {},
     "output_type": "execute_result"
    }
   ],
   "source": [
    "res.algorithm"
   ]
  },
  {
   "cell_type": "code",
   "execution_count": 7,
   "metadata": {
    "execution": {
     "iopub.execute_input": "2022-07-03T13:09:45.962073Z",
     "iopub.status.busy": "2022-07-03T13:09:45.957074Z",
     "iopub.status.idle": "2022-07-03T13:09:45.968767Z",
     "shell.execute_reply": "2022-07-03T13:09:45.967865Z"
    },
    "tags": []
   },
   "outputs": [],
   "source": [
    "pop = res.pop"
   ]
  },
  {
   "cell_type": "markdown",
   "metadata": {},
   "source": [
    "The values from the final population can be extracted by using the `get` method. The population object is used internally and store information for each individual. The `get` method allows returning vectors or matrices based on the provided properties."
   ]
  },
  {
   "cell_type": "code",
   "execution_count": 8,
   "metadata": {
    "execution": {
     "iopub.execute_input": "2022-07-03T13:09:45.978928Z",
     "iopub.status.busy": "2022-07-03T13:09:45.977982Z",
     "iopub.status.idle": "2022-07-03T13:09:45.995498Z",
     "shell.execute_reply": "2022-07-03T13:09:45.994631Z"
    },
    "tags": []
   },
   "outputs": [
    {
     "data": {
      "text/plain": [
       "array([[0.50305402, 0.54583153, 0.47366022, 0.63154198, 0.31329839,\n",
       "        0.48768218, 0.44978303, 0.56120964, 0.27160985, 0.40120548],\n",
       "       [0.50292996, 0.54583153, 0.48074318, 0.63154198, 0.3221498 ,\n",
       "        0.48768218, 0.41763473, 0.56120964, 0.27161215, 0.40120548],\n",
       "       [0.502939  , 0.54583153, 0.4800572 , 0.63154198, 0.32004101,\n",
       "        0.48768218, 0.41763473, 0.56120964, 0.27161215, 0.40120548],\n",
       "       [0.502939  , 0.54583153, 0.47366022, 0.63154198, 0.32004101,\n",
       "        0.48768218, 0.41763473, 0.56120964, 0.27161215, 0.40120548],\n",
       "       [0.50292359, 0.54583153, 0.47366022, 0.63154198, 0.31329839,\n",
       "        0.48768218, 0.56953449, 0.56120964, 0.27161014, 0.40120548]])"
      ]
     },
     "execution_count": 8,
     "metadata": {},
     "output_type": "execute_result"
    }
   ],
   "source": [
    "pop.get(\"X\")"
   ]
  },
  {
   "cell_type": "code",
   "execution_count": 9,
   "metadata": {
    "execution": {
     "iopub.execute_input": "2022-07-03T13:09:46.001453Z",
     "iopub.status.busy": "2022-07-03T13:09:46.000748Z",
     "iopub.status.idle": "2022-07-03T13:09:46.018797Z",
     "shell.execute_reply": "2022-07-03T13:09:46.017929Z"
    },
    "tags": []
   },
   "outputs": [
    {
     "data": {
      "text/plain": [
       "array([[0.12330693],\n",
       "       [0.12401768],\n",
       "       [0.12479917],\n",
       "       [0.12509524],\n",
       "       [0.12561933]])"
      ]
     },
     "execution_count": 9,
     "metadata": {},
     "output_type": "execute_result"
    }
   ],
   "source": [
    "pop.get(\"F\")"
   ]
  },
  {
   "cell_type": "markdown",
   "metadata": {},
   "source": [
    "In this run, the problem did not have any constraints, and `res.G` evaluated to `None`.\n",
    "Also, note that `res.CV` will always be set to `0`, no matter if the problem has constraints or not."
   ]
  },
  {
   "cell_type": "markdown",
   "metadata": {},
   "source": [
    "Let us consider a problem that has, in fact, constraints:"
   ]
  },
  {
   "cell_type": "code",
   "execution_count": 10,
   "metadata": {
    "execution": {
     "iopub.execute_input": "2022-07-03T13:09:46.026449Z",
     "iopub.status.busy": "2022-07-03T13:09:46.025500Z",
     "iopub.status.idle": "2022-07-03T13:09:46.082781Z",
     "shell.execute_reply": "2022-07-03T13:09:46.081863Z"
    },
    "tags": []
   },
   "outputs": [
    {
     "name": "stdout",
     "output_type": "stream",
     "text": [
      "=================================================================================================\n",
      "n_gen  |  n_eval  |     cv_min    |     cv_avg    |     f_avg     |     f_min     |     f_gap    \n",
      "=================================================================================================\n",
      "     1 |        5 |  1.350271E+02 |  5.475700E+02 |             - |             - |             -\n",
      "     2 |       10 |  1.350271E+02 |  3.346878E+02 |             - |             - |             -\n",
      "     3 |       15 |  1.350271E+02 |  2.058516E+02 |             - |             - |             -\n",
      "     4 |       20 |  1.228872E+02 |  1.437802E+02 |             - |             - |             -\n",
      "     5 |       25 |  1.228872E+02 |  1.277350E+02 |             - |             - |             -\n"
     ]
    }
   ],
   "source": [
    "problem = get_problem(\"g1\")\n",
    "algorithm = GA(pop_size=5)\n",
    "res = minimize(problem,\n",
    "               algorithm,\n",
    "               ('n_gen', 5),\n",
    "               verbose=True,\n",
    "               seed=1)"
   ]
  },
  {
   "cell_type": "code",
   "execution_count": 11,
   "metadata": {
    "execution": {
     "iopub.execute_input": "2022-07-03T13:09:46.090957Z",
     "iopub.status.busy": "2022-07-03T13:09:46.088796Z",
     "iopub.status.idle": "2022-07-03T13:09:46.106795Z",
     "shell.execute_reply": "2022-07-03T13:09:46.106063Z"
    },
    "tags": []
   },
   "outputs": [
    {
     "data": {
      "text/plain": [
       "(None, None, None, None)"
      ]
     },
     "execution_count": 11,
     "metadata": {},
     "output_type": "execute_result"
    }
   ],
   "source": [
    "res.X, res.F, res.G, res.CV"
   ]
  },
  {
   "cell_type": "markdown",
   "metadata": {},
   "source": [
    "Here, the algorithm was not able to find any feasible solution in 5 generations. Therefore, all values contained in the results are equals to `None`. If the least feasible solution should be returned when no feasible solution was found, the flag `return_least_infeasible` can be enabled:"
   ]
  },
  {
   "cell_type": "code",
   "execution_count": 12,
   "metadata": {
    "execution": {
     "iopub.execute_input": "2022-07-03T13:09:46.112383Z",
     "iopub.status.busy": "2022-07-03T13:09:46.111854Z",
     "iopub.status.idle": "2022-07-03T13:09:46.163298Z",
     "shell.execute_reply": "2022-07-03T13:09:46.162397Z"
    },
    "tags": []
   },
   "outputs": [
    {
     "name": "stdout",
     "output_type": "stream",
     "text": [
      "=================================================================================================\n",
      "n_gen  |  n_eval  |     cv_min    |     cv_avg    |     f_avg     |     f_min     |     f_gap    \n",
      "=================================================================================================\n",
      "     1 |        5 |  1.350271E+02 |  5.475700E+02 |             - |             - |             -\n",
      "     2 |       10 |  1.350271E+02 |  3.346878E+02 |             - |             - |             -\n",
      "     3 |       15 |  1.350271E+02 |  2.058516E+02 |             - |             - |             -\n",
      "     4 |       20 |  1.228872E+02 |  1.437802E+02 |             - |             - |             -\n",
      "     5 |       25 |  1.228872E+02 |  1.277350E+02 |             - |             - |             -\n"
     ]
    }
   ],
   "source": [
    "problem = get_problem(\"g1\")\n",
    "algorithm = GA(pop_size=5)\n",
    "res = minimize(problem,\n",
    "               algorithm,\n",
    "               ('n_gen', 5),\n",
    "               verbose=True,\n",
    "               return_least_infeasible=True,\n",
    "               seed=1)"
   ]
  },
  {
   "cell_type": "code",
   "execution_count": 13,
   "metadata": {
    "execution": {
     "iopub.execute_input": "2022-07-03T13:09:46.176605Z",
     "iopub.status.busy": "2022-07-03T13:09:46.174456Z",
     "iopub.status.idle": "2022-07-03T13:09:46.186484Z",
     "shell.execute_reply": "2022-07-03T13:09:46.185704Z"
    },
    "tags": []
   },
   "outputs": [
    {
     "data": {
      "text/plain": [
       "(array([ 0.80260789,  0.95582198,  0.74816565,  0.28044399,  0.78927933,\n",
       "         0.10322601,  0.4784879 ,  0.91014277,  0.29361415, 28.77753386,\n",
       "         9.99496934,  1.93669579,  0.67883553]),\n",
       " array([-41.0084659]),\n",
       " array([32.28936294, 23.81577673,  5.3396404 , 22.35667076,  2.34839348,\n",
       "        -4.04862945, 27.42736655,  9.31002943, -0.1772039 ]),\n",
       " array([122.88724029]))"
      ]
     },
     "execution_count": 13,
     "metadata": {},
     "output_type": "execute_result"
    }
   ],
   "source": [
    "res.X, res.F, res.G, res.CV"
   ]
  },
  {
   "cell_type": "markdown",
   "metadata": {},
   "source": [
    "We have made this design decision, because an infeasible solution can often not be considered as a solution\n",
    "of the optimization problem. Therefore, having a solution equals to `None` indicates the fact no feasible solution has been found."
   ]
  },
  {
   "cell_type": "markdown",
   "metadata": {},
   "source": [
    "If the problem has multiple objectives, the result object has the same structure but `res.X`, `res.F`, `res .G`, `res.CV` is a set \n",
    "of non-dominated solutions instead of a single one."
   ]
  },
  {
   "cell_type": "code",
   "execution_count": 14,
   "metadata": {
    "execution": {
     "iopub.execute_input": "2022-07-03T13:09:46.194557Z",
     "iopub.status.busy": "2022-07-03T13:09:46.192623Z",
     "iopub.status.idle": "2022-07-03T13:09:46.550040Z",
     "shell.execute_reply": "2022-07-03T13:09:46.549035Z"
    },
    "tags": []
   },
   "outputs": [],
   "source": [
    "from pymoo.algorithms.moo.nsga2 import NSGA2\n",
    "\n",
    "problem = get_problem(\"zdt2\")\n",
    "algorithm = NSGA2()\n",
    "res = minimize(problem,\n",
    "               algorithm,\n",
    "               ('n_gen', 10),\n",
    "               seed=1)"
   ]
  },
  {
   "cell_type": "code",
   "execution_count": 15,
   "metadata": {
    "execution": {
     "iopub.execute_input": "2022-07-03T13:09:46.561720Z",
     "iopub.status.busy": "2022-07-03T13:09:46.559565Z",
     "iopub.status.idle": "2022-07-03T13:09:46.574869Z",
     "shell.execute_reply": "2022-07-03T13:09:46.574000Z"
    },
    "tags": []
   },
   "outputs": [
    {
     "data": {
      "text/plain": [
       "array([[6.71284737e-04, 3.91810473e+00],\n",
       "       [9.20976269e-01, 2.98185668e+00],\n",
       "       [9.79639859e-01, 2.96378472e+00],\n",
       "       [9.65154491e-01, 2.96930258e+00],\n",
       "       [2.97584445e-04, 3.94344035e+00],\n",
       "       [2.09224517e-03, 3.25535011e+00],\n",
       "       [9.22950295e-05, 4.87094809e+00],\n",
       "       [2.88277365e-04, 3.94705431e+00],\n",
       "       [2.63351321e-03, 3.13109986e+00],\n",
       "       [9.04710620e-04, 3.33000136e+00]])"
      ]
     },
     "execution_count": 15,
     "metadata": {},
     "output_type": "execute_result"
    }
   ],
   "source": [
    "res.F"
   ]
  }
 ],
 "metadata": {
  "kernelspec": {
   "display_name": "Python 3",
   "language": "python",
   "name": "python3"
  },
  "language_info": {
   "codemirror_mode": {
    "name": "ipython",
    "version": 3
   },
   "file_extension": ".py",
   "mimetype": "text/x-python",
   "name": "python",
   "nbconvert_exporter": "python",
   "pygments_lexer": "ipython3",
   "version": "3.9.12"
  }
 },
 "nbformat": 4,
 "nbformat_minor": 4
}
