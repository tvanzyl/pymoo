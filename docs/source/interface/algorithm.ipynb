{
 "cells": [
  {
   "cell_type": "markdown",
   "metadata": {
    "raw_mimetype": "text/restructuredtext"
   },
   "source": [
    ".. _nb_interface_algorithm:"
   ]
  },
  {
   "cell_type": "markdown",
   "metadata": {},
   "source": [
    "## Algorithm\n"
   ]
  },
  {
   "cell_type": "markdown",
   "metadata": {},
   "source": [
    "After having defined the problem, a suitable algorithm for optimizing it has to be found. This can be challenging and might require some literature research. *pymoo* offers quite a few standard implementations of well-known algorithms that can be quite useful in obtaining quick results or prototyping."
   ]
  },
  {
   "cell_type": "markdown",
   "metadata": {},
   "source": [
    "Each algorithm has different parameters to be initialized. For the functional interface, the `algorithm` object needs to be passed to the `minimize` method, starting the optimization run. For instance, for `NSGA2` the object can be initialized as follows:"
   ]
  },
  {
   "cell_type": "code",
   "execution_count": 1,
   "metadata": {
    "execution": {
     "iopub.execute_input": "2022-07-03T13:10:48.798728Z",
     "iopub.status.busy": "2022-07-03T13:10:48.797689Z",
     "iopub.status.idle": "2022-07-03T13:10:49.203516Z",
     "shell.execute_reply": "2022-07-03T13:10:49.202911Z"
    }
   },
   "outputs": [],
   "source": [
    "from pymoo.algorithms.moo.nsga2 import NSGA2\n",
    "\n",
    "algorithm = NSGA2()"
   ]
  },
  {
   "cell_type": "markdown",
   "metadata": {},
   "source": [
    "For more details about algorithms, please have a look at this [tutorial](../algorithms/index.ipynb)."
   ]
  }
 ],
 "metadata": {
  "kernelspec": {
   "display_name": "Python 3",
   "language": "python",
   "name": "python3"
  },
  "language_info": {
   "codemirror_mode": {
    "name": "ipython",
    "version": 3
   },
   "file_extension": ".py",
   "mimetype": "text/x-python",
   "name": "python",
   "nbconvert_exporter": "python",
   "pygments_lexer": "ipython3",
   "version": "3.9.12"
  }
 },
 "nbformat": 4,
 "nbformat_minor": 4
}
