{
 "cells": [
  {
   "cell_type": "raw",
   "metadata": {
    "raw_mimetype": "text/restructuredtext"
   },
   "source": [
    ".. _nb_algorithms_hyperparameter:"
   ]
  },
  {
   "cell_type": "markdown",
   "metadata": {},
   "source": [
    "# Hyperparameter"
   ]
  },
  {
   "cell_type": "raw",
   "metadata": {
    "raw_mimetype": "text/restructuredtext"
   },
   "source": [
    ".. admonition:: Overview\n",
    "    :class: myOwnStyle\n",
    "    \n",
    "    - :ref:`Functional<nb_algorithms_func>` \n",
    "    - Object-Oriented Using :ref:`Next<nb_algorithms_next>` \n",
    "    - Object-Oriented Using :ref:`Ask And Tell<nb_algorithms_ask_and_tell>`\n"
   ]
  },
  {
   "cell_type": "raw",
   "metadata": {
    "raw_mimetype": "text/restructuredtext"
   },
   "source": [
    ".. _nb_algorithms_func:"
   ]
  },
  {
   "cell_type": "markdown",
   "metadata": {},
   "source": [
    "## Functional"
   ]
  },
  {
   "cell_type": "markdown",
   "metadata": {},
   "source": [
    "As you might be used to executing algorithms from other frameworks, pymoo offers a functional interface. It requires to pass the problem to be solved, the algorithm to be used, and optionally (but for most algorithms recommend) a termination condition. Other important arguments are discussed in the [Interface](../interface/index.ipynb) tutorial. For executing custom code in between iterations the [Callback](../interface/callback.ipynb) object can be useful. Moreover, it is worth noting that the algorithm object is cloned before being modified. Thus, two calls with the same algorithm object and random seed lead to the same result."
   ]
  },
  {
   "cell_type": "code",
   "execution_count": 1,
   "metadata": {
    "execution": {
     "iopub.execute_input": "2022-07-03T13:11:11.190009Z",
     "iopub.status.busy": "2022-07-03T13:11:11.184546Z",
     "iopub.status.idle": "2022-07-03T13:11:12.103267Z",
     "shell.execute_reply": "2022-07-03T13:11:12.102540Z"
    },
    "tags": []
   },
   "outputs": [
    {
     "name": "stdout",
     "output_type": "stream",
     "text": [
      "==========================================================================\n",
      "n_gen  |  n_eval  | n_nds  |      igd      |       gd      |       hv     \n",
      "==========================================================================\n",
      "     1 |      100 |     18 |  1.9687500927 |  2.6048048316 |  0.000000E+00\n",
      "     2 |      200 |     21 |  1.9687500927 |  2.6306171084 |  0.000000E+00\n",
      "     3 |      300 |     24 |  1.9687500927 |  2.6560944744 |  0.000000E+00\n",
      "     4 |      400 |     19 |  1.8690590836 |  2.4848929476 |  0.000000E+00\n",
      "     5 |      500 |     18 |  1.8690590836 |  2.3989413059 |  0.000000E+00\n",
      "     6 |      600 |     22 |  1.8056158967 |  2.2009211782 |  0.000000E+00\n",
      "     7 |      700 |     23 |  1.5722664334 |  2.2255950342 |  0.000000E+00\n",
      "     8 |      800 |     20 |  1.5690599921 |  2.0214568983 |  0.000000E+00\n",
      "     9 |      900 |     21 |  1.4583207910 |  1.9633797963 |  0.000000E+00\n",
      "    10 |     1000 |     17 |  1.4555865724 |  1.7783590334 |  0.000000E+00\n",
      "hash 50.964732524737606\n"
     ]
    }
   ],
   "source": [
    "from pymoo.algorithms.moo.nsga2 import NSGA2\n",
    "\n",
    "from pymoo.optimize import minimize\n",
    "from pymoo.problems import get_problem\n",
    "\n",
    "problem = get_problem(\"zdt1\")\n",
    "\n",
    "algorithm = NSGA2(pop_size=100)\n",
    "\n",
    "res = minimize(problem,\n",
    "               algorithm,\n",
    "               ('n_gen', 10),\n",
    "               seed=1,\n",
    "               verbose=True)\n",
    "\n",
    "# calculate a hash to show that all executions end with the same result\n",
    "print(\"hash\", res.F.sum())"
   ]
  }
 ],
 "metadata": {
  "kernelspec": {
   "display_name": "Python 3 (ipykernel)",
   "language": "python",
   "name": "python3"
  },
  "language_info": {
   "codemirror_mode": {
    "name": "ipython",
    "version": 3
   },
   "file_extension": ".py",
   "mimetype": "text/x-python",
   "name": "python",
   "nbconvert_exporter": "python",
   "pygments_lexer": "ipython3",
   "version": "3.9.12"
  },
  "pycharm": {
   "stem_cell": {
    "cell_type": "raw",
    "metadata": {
     "collapsed": false
    },
    "source": []
   }
  }
 },
 "nbformat": 4,
 "nbformat_minor": 4
}
