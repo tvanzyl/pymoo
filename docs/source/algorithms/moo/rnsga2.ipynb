{
 "cells": [
  {
   "cell_type": "raw",
   "metadata": {
    "raw_mimetype": "text/restructuredtext"
   },
   "source": [
    ".. _nb_rnsga2:"
   ]
  },
  {
   "cell_type": "markdown",
   "metadata": {},
   "source": [
    "# R-NSGA-II"
   ]
  },
  {
   "cell_type": "markdown",
   "metadata": {},
   "source": [
    "The implementation details of this algorithm can be found in Reference Point Based Multi-Objective Optimization Using Evolutionary Algorithms <cite data-cite=\"rnsga2\"></cite>. \n",
    "The algorithm follows the general outline of NSGA-II with modified survival selection. \n",
    "\n",
    "In R-NSGA-II individuals are first selected frontwise. By doing so, there will be the situation where a front needs to be split because not all individuals are allowed to survive. \n",
    "In this splitting front, solutions are selected based on rank."
   ]
  },
  {
   "cell_type": "markdown",
   "metadata": {},
   "source": [
    "The rank is calculated as the euclidean distance to each reference point. The solution closest to a reference point is thus assigned a rank of 1. The best rank for each solution is selected as the rank of that solution. "
   ]
  },
  {
   "cell_type": "markdown",
   "metadata": {},
   "source": [
    "<div style=\"text-align: center;\">\n",
    "    <img src=\"https://github.com/anyoptimization/pymoo-data/blob/main/docs/images/rnsga2.png?raw=true\" width=\"450\">\n",
    "</div>"
   ]
  },
  {
   "cell_type": "markdown",
   "metadata": {},
   "source": [
    "Next, solutions are selected for each reference point frontwise based on rank. After each reference point has selected a solution for survival, all solutions within epsilon distance of surviving solutions are \"cleared.\" This means that they can not be selected for survival until and unless every front has been processed, and more solutions still need to be selected.\n",
    "\n",
    "This implies that smaller epsilon values will result in a tighter set of solutions."
   ]
  },
  {
   "cell_type": "markdown",
   "metadata": {},
   "source": [
    "### Example"
   ]
  },
  {
   "cell_type": "code",
   "execution_count": 1,
   "metadata": {
    "execution": {
     "iopub.execute_input": "2022-07-03T13:21:29.444203Z",
     "iopub.status.busy": "2022-07-03T13:21:29.443364Z",
     "iopub.status.idle": "2022-07-03T13:21:42.565166Z",
     "shell.execute_reply": "2022-07-03T13:21:42.563880Z"
    },
    "tags": []
   },
   "outputs": [
    {
     "data": {
      "text/plain": [
       "<pymoo.visualization.scatter.Scatter at 0x7f0a85fae580>"
      ]
     },
     "execution_count": 1,
     "metadata": {},
     "output_type": "execute_result"
    },
    {
     "data": {
      "image/png": "[encoded data removed]",
      "text/plain": [
       "<Figure size 576x432 with 1 Axes>"
      ]
     },
     "metadata": {
      "needs_background": "light"
     },
     "output_type": "display_data"
    }
   ],
   "source": [
    "import numpy as np\n",
    "\n",
    "from pymoo.algorithms.moo.rnsga2 import RNSGA2\n",
    "from pymoo.factory import get_problem\n",
    "from pymoo.optimize import minimize\n",
    "from pymoo.visualization.scatter import Scatter\n",
    "\n",
    "problem = get_problem(\"zdt1\", n_var=30)\n",
    "pf = problem.pareto_front()\n",
    "\n",
    "# Define reference points\n",
    "ref_points = np.array([[0.5, 0.2], [0.1, 0.6]])\n",
    "\n",
    "# Get Algorithm\n",
    "algorithm = RNSGA2(\n",
    "    ref_points=ref_points,\n",
    "    pop_size=40,\n",
    "    epsilon=0.01,\n",
    "    normalization='front',\n",
    "    extreme_points_as_reference_points=False,\n",
    "    weights=np.array([0.5, 0.5]))\n",
    "\n",
    "res = minimize(problem,\n",
    "               algorithm,\n",
    "               save_history=True,\n",
    "               termination=('n_gen', 250),\n",
    "               seed=1,\n",
    "               pf=pf,\n",
    "               disp=False)\n",
    "\n",
    "\n",
    "Scatter().add(pf, label=\"pf\").add(res.F, label=\"F\").add(ref_points, label=\"ref_points\").show()\n"
   ]
  },
  {
   "cell_type": "markdown",
   "metadata": {},
   "source": [
    "### API"
   ]
  },
  {
   "cell_type": "raw",
   "metadata": {
    "raw_mimetype": "text/restructuredtext"
   },
   "source": [
    ".. autoclass:: pymoo.algorithms.moo.rnsga2.RNSGA2\n",
    "    :noindex:"
   ]
  }
 ],
 "metadata": {
  "celltoolbar": "Raw Cell Format",
  "kernelspec": {
   "display_name": "Python 3 (ipykernel)",
   "language": "python",
   "name": "python3"
  },
  "language_info": {
   "codemirror_mode": {
    "name": "ipython",
    "version": 3
   },
   "file_extension": ".py",
   "mimetype": "text/x-python",
   "name": "python",
   "nbconvert_exporter": "python",
   "pygments_lexer": "ipython3",
   "version": "3.9.12"
  }
 },
 "nbformat": 4,
 "nbformat_minor": 4
}
