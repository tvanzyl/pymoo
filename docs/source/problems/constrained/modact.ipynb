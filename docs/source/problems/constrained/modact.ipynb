{
 "cells": [
  {
   "cell_type": "raw",
   "metadata": {
    "raw_mimetype": "text/restructuredtext"
   },
   "source": [
    ".. _nb_modact:"
   ]
  },
  {
   "cell_type": "markdown",
   "metadata": {},
   "source": [
    "# MODAct\n",
    "\n",
    "MODAct (multi-objective design of actuators) is a real-world benchmark test-suite <cite data-cite=\"modact\"></cite> for constrained multi-objective optimization. The optimization problems aim at finding small electro-actuators given some objectives and constraints. Currently, there are 20 problems with up to 5 objectives and 10 inequaltiy constraints, summarized in the table below.\n",
    "\n",
    "In order to solve these problems, you will need to have the [modact](https://github.com/epfl-lamd/modact) package and its dependencies installed (Docker image available). A single solution evaluation takes about 20 ms. Therefore, the use of parallel schemes is advised. \n",
    "\n",
    "\n",
    "The estimated Pareto-fronts for CS1-4 and CT-4 have been added to pymoo directly. The others because of their file sizes have to be downloaded [here](https://doi.org/10.5281/zenodo.3824302), and used during initialization as shown below.\n",
    "\n",
    "For more information please refer to the associated publication <cite data-cite=\"modact\"></cite>.\n",
    "\n",
    "|Problem|Variables|Objectives|Constraints|\n",
    "|:---|:---|:---|:---|\n",
    "| CS1   | 20      |  2       | 7         |\n",
    "| CS2   | 20      |  2       | 8         |  \n",
    "| CS3   | 20      |  2       | 10        | \n",
    "| CS4   | 20      |  2       | 9         |\n",
    "| CT1, CTS1, CTSE1, CTSEI1  | 20  |  2,3,4 or 5  | 7  |  \n",
    "| CT2, CTS2, CTSE2, CTSEI2  | 20  |  2,3,4 or 5  | 8  |  \n",
    "| CT3, CTS3, CTSE3, CTSEI3  | 20  |  2,3,4 or 5  | 10 |  \n",
    "| CT4, CTS4, CTSE4, CTSEI4  | 20  |  2,3,4 or 5  | 9  |  \n",
    "\n",
    "Some usage examples are highlighted in the following sections."
   ]
  },
  {
   "cell_type": "raw",
   "metadata": {
    "raw_mimetype": "text/restructuredtext"
   },
   "source": [
    ".. _nb_modact_cs3:"
   ]
  },
  {
   "cell_type": "markdown",
   "metadata": {},
   "source": [
    "### CS3"
   ]
  },
  {
   "cell_type": "code",
   "execution_count": null,
   "metadata": {
    "tags": []
   },
   "outputs": [],
   "source": [
    "from pymoo.factory import MODAct\n",
    "from pymoo.util.plotting import plot\n",
    "\n",
    "problem = MODAct(\"cs3\")\n",
    "plot(problem.pareto_front(), no_fill=True)"
   ]
  },
  {
   "cell_type": "markdown",
   "metadata": {},
   "source": [
    "### CT1"
   ]
  },
  {
   "cell_type": "code",
   "execution_count": null,
   "metadata": {},
   "outputs": [],
   "source": [
    "from pymoo.factory import get_problem\n",
    "from pymoo.util.plotting import plot\n",
    "\n",
    "problem = MODAct(\"ct1\")\n",
    "plot(problem.pareto_front(), no_fill=True)"
   ]
  },
  {
   "cell_type": "markdown",
   "metadata": {},
   "source": [
    "### CTS4"
   ]
  },
  {
   "cell_type": "code",
   "execution_count": null,
   "metadata": {},
   "outputs": [],
   "source": [
    "import numpy as np\n",
    "from pymoo.factory import get_problem, get_visualization\n",
    "\n",
    "pf = np.loadtxt(\"modact-cts3.pf\")\n",
    "\n",
    "\n",
    "problem = MODAct(\"cts4\", pf=pf)\n",
    "pf = problem.pareto_front()\n",
    "get_visualization(\"scatter\", angle=(45,45)).add(pf, color=\"red\").show()"
   ]
  },
  {
   "cell_type": "markdown",
   "metadata": {},
   "source": [
    "<sub>Implementation by [the author (cyrilpic)](https://github.com/cyrilpic)."
   ]
  }
 ],
 "metadata": {
  "kernelspec": {
   "display_name": "Python 3",
   "language": "python",
   "name": "python3"
  },
  "language_info": {
   "codemirror_mode": {
    "name": "ipython",
    "version": 3
   },
   "file_extension": ".py",
   "mimetype": "text/x-python",
   "name": "python",
   "nbconvert_exporter": "python",
   "pygments_lexer": "ipython3",
   "version": "3.7.3"
  }
 },
 "nbformat": 4,
 "nbformat_minor": 4
}
