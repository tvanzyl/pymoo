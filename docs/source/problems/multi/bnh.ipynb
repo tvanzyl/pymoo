{
 "cells": [
  {
   "cell_type": "raw",
   "metadata": {
    "raw_mimetype": "text/restructuredtext"
   },
   "source": [
    ".. _nb_bnh:"
   ]
  },
  {
   "cell_type": "markdown",
   "metadata": {},
   "source": [
    "## BNH\n",
    "\n",
    "Binh and Korn defined the following test problem in <cite data-cite=\"bnh\"></cite> with 2 objectives and 2 constraints:"
   ]
  },
  {
   "cell_type": "markdown",
   "metadata": {},
   "source": [
    "**Definition**"
   ]
  },
  {
   "cell_type": "markdown",
   "metadata": {},
   "source": [
    "\\begin{equation}\n",
    "\\newcommand{\\boldx}{\\mathbf{x}}\n",
    "\\begin{array}\n",
    "\\mbox{Minimize} & f_1(\\boldx) = 4x_1^2 + 4x_2^2, \\\\\n",
    "\\mbox{Minimize} & f_2(\\boldx) = (x_1-5)^2 + (x_2-5)^2,    \\\\\n",
    "\\mbox{subject to} & C_1(\\boldx) \\equiv (x_1-5)^2 + x_2^2 \\leq 25, \\\\\n",
    "& C_2(\\boldx) \\equiv (x_1-8)^2 + (x_2+3)^2 \\geq 7.7, \\\\\n",
    "& 0 \\leq x_1 \\leq 5, \\\\\n",
    "& 0 \\leq x_2 \\leq 3.\n",
    "\\end{array}\n",
    "\\end{equation}"
   ]
  },
  {
   "cell_type": "markdown",
   "metadata": {},
   "source": [
    "**Optimum**"
   ]
  },
  {
   "cell_type": "markdown",
   "metadata": {},
   "source": [
    "The Pareto-optimal solutions are constituted by solutions \n",
    "$x_1^{\\ast}=x_2^{\\ast} \\in [0,3]$ and $x_1^{\\ast} \\in [3,5]$,\n",
    "$x_2^{\\ast}=3$. These solutions are marked by using bold \n",
    "continuous\n",
    "curves.  The addition of both constraints in the problem does not make any solution\n",
    "in the unconstrained Pareto-optimal front infeasible. \n",
    "Thus, constraints may not introduce any additional difficulty\n",
    "in solving this problem."
   ]
  },
  {
   "cell_type": "markdown",
   "metadata": {},
   "source": [
    "**Plot**"
   ]
  },
  {
   "cell_type": "code",
   "execution_count": 1,
   "metadata": {
    "code": "usage_problem.py",
    "execution": {
     "iopub.execute_input": "2022-07-03T13:07:25.338872Z",
     "iopub.status.busy": "2022-07-03T13:07:25.337581Z",
     "iopub.status.idle": "2022-07-03T13:07:29.136012Z",
     "shell.execute_reply": "2022-07-03T13:07:29.135132Z"
    },
    "section": "bnh"
   },
   "outputs": [
    {
     "data": {
      "image/png": "[encoded data removed]",
      "text/plain": [
       "<Figure size 432x288 with 1 Axes>"
      ]
     },
     "metadata": {
      "needs_background": "light"
     },
     "output_type": "display_data"
    }
   ],
   "source": [
    "from pymoo.factory import get_problem\n",
    "from pymoo.util.plotting import plot\n",
    "\n",
    "problem = get_problem(\"bnh\")\n",
    "plot(problem.pareto_front(), no_fill=True)"
   ]
  }
 ],
 "metadata": {
  "kernelspec": {
   "display_name": "Python 3",
   "language": "python",
   "name": "python3"
  },
  "language_info": {
   "codemirror_mode": {
    "name": "ipython",
    "version": 3
   },
   "file_extension": ".py",
   "mimetype": "text/x-python",
   "name": "python",
   "nbconvert_exporter": "python",
   "pygments_lexer": "ipython3",
   "version": "3.9.12"
  }
 },
 "nbformat": 4,
 "nbformat_minor": 4
}
